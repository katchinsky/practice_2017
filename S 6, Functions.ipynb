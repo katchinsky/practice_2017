{
 "cells": [
  {
   "cell_type": "markdown",
   "metadata": {},
   "source": [
    "# Функции и рекурсия"
   ]
  },
  {
   "cell_type": "markdown",
   "metadata": {},
   "source": [
    "## Создание функций\n",
    "\n",
    "Чтобы избежать в коде повторения одной и той же логики, используются функции. Функцию можно объявить, пользуясь инструкцией **def**, после которой идет имя функции и в скобочках через запятую перечисляются имена параметров. Тело функции отделяется отступами. Вызывать функцию можно из любого места кода после ее создания. \n",
    "\n",
    "Создадим первую функцию и вызовем ее:"
   ]
  },
  {
   "cell_type": "code",
   "execution_count": 1,
   "metadata": {
    "collapsed": false,
    "scrolled": true
   },
   "outputs": [
    {
     "name": "stdout",
     "output_type": "stream",
     "text": [
      "Hello, world!\n"
     ]
    }
   ],
   "source": [
    "def func(): # Объявим функцию func, не принимающую ни один параметр\n",
    "    print(\"Hello, world!\") # Тело функции\n",
    "\n",
    "func() # Вызовем функцию"
   ]
  },
  {
   "cell_type": "markdown",
   "metadata": {},
   "source": [
    "Создадим функцию, принимающую несколько параметров: "
   ]
  },
  {
   "cell_type": "code",
   "execution_count": 3,
   "metadata": {
    "collapsed": false
   },
   "outputs": [
    {
     "name": "stdout",
     "output_type": "stream",
     "text": [
      "5\n"
     ]
    }
   ],
   "source": [
    "def func(a, b):\n",
    "    print(a + b)\n",
    "\n",
    "func(2, 3)"
   ]
  },
  {
   "cell_type": "markdown",
   "metadata": {},
   "source": [
    "Чтобы функция принимала произвольное число параметров, можно собрать все переданные параметры в один кортеж, написав звездочку перед его именем. Вот так: "
   ]
  },
  {
   "cell_type": "code",
   "execution_count": 4,
   "metadata": {
    "collapsed": false
   },
   "outputs": [
    {
     "name": "stdout",
     "output_type": "stream",
     "text": [
      "15\n"
     ]
    }
   ],
   "source": [
    "def my_max(*a): # Напишем функцию max для произвольного количества аргументов\n",
    "    res = a[0]\n",
    "    for val in a:\n",
    "        if val > res:\n",
    "            res = val\n",
    "    print(res)\n",
    "\n",
    "my_max(10, 3, -1, 15)"
   ]
  },
  {
   "cell_type": "markdown",
   "metadata": {},
   "source": [
    "Имя функции становится ссылкой на объект-функцию. Объект-функция аналогично другим объектам может быть связан с несколькими именами, может сохраняться в списке и т. д."
   ]
  },
  {
   "cell_type": "code",
   "execution_count": 61,
   "metadata": {
    "collapsed": false
   },
   "outputs": [
    {
     "name": "stdout",
     "output_type": "stream",
     "text": [
      "2\n"
     ]
    }
   ],
   "source": [
    "g = my_max\n",
    "g(1, 2)"
   ]
  },
  {
   "cell_type": "markdown",
   "metadata": {},
   "source": [
    "### Команда return"
   ]
  },
  {
   "cell_type": "markdown",
   "metadata": {},
   "source": [
    "Функции могут возвращать некоторое значение, и оно передается вызывающей программе с помощью команды **return**. Она может находиться в произвольном месте функции. После выполнения этой команды функция всегда прекращает работу. "
   ]
  },
  {
   "cell_type": "code",
   "execution_count": 2,
   "metadata": {
    "collapsed": false
   },
   "outputs": [
    {
     "name": "stdout",
     "output_type": "stream",
     "text": [
      "1 2\n",
      "2\n"
     ]
    }
   ],
   "source": [
    "def my_max(a, b): # Напишем функцию max для двух аргументов\n",
    "    if a > b:\n",
    "        return a\n",
    "    return b\n",
    "\n",
    "c, d = list(map(int, input().split())) # Считаем два числа, записанных через пробел\n",
    "print(my_max(c, d)) # Посмотрим, что возвратит наша функция "
   ]
  },
  {
   "cell_type": "markdown",
   "metadata": {},
   "source": [
    "Чтобы вернуть несколько значений, достаточно записать их после return через запятую. Аналогично, через запятую должны быть перечислены переменные, в которые будут попадать вычисленные значения."
   ]
  },
  {
   "cell_type": "code",
   "execution_count": 3,
   "metadata": {
    "collapsed": false
   },
   "outputs": [
    {
     "name": "stdout",
     "output_type": "stream",
     "text": [
      "4 9\n"
     ]
    }
   ],
   "source": [
    "def func(a, b):\n",
    "    return 2 * a, 3 * b\n",
    "\n",
    "c, d = func(2, 3)\n",
    "print(c, d)"
   ]
  },
  {
   "cell_type": "markdown",
   "metadata": {},
   "source": [
    "## Пространства имен и области видимости\n",
    "\n",
    "**Области видимости** – места, где определяются переменные и где выполняется их поиск. Имена появляются в тот момент, когда им впервые присваиваются некоторые значения. Место, где выполняется присваивание, определяет **пространство имен**, в котором будет находиться имя, а следовательно, и область его видимости. \n",
    "\n",
    "По умолчанию все имена, значения которым присваиваются внутри функции, ассоциируются с локальным пространством имен этой функции."
   ]
  },
  {
   "cell_type": "markdown",
   "metadata": {},
   "source": [
    "## Разрешение имен\n",
    "\n",
    "Когда внутри функции выполняется обращение к имени, интерпретатор ищет его в четырех областях видимости – в локальной (local, L), затем в локальной области любой объемлющей инструкции def (enclosing, E) или в выражении lambda, затем в глобальной (global, G) и, наконец, во встроенной (built-in, B). Поиск завершается, как только будет найдено первое подходящее имя. Если имя не будет найдено, интерпретатор выведет сообщение об ошибке."
   ]
  },
  {
   "cell_type": "markdown",
   "metadata": {
    "collapsed": true
   },
   "source": [
    "##  Глобальные и локальные переменные\n",
    "\n",
    "**Глобальными** называются переменные, объявленные в основном коде программы. Глобальные переменные видны во всех функциях этой программы. \n",
    "\n",
    "Например, на момент вызова функции переменная *а* уже создана, поэтому такой код выполнится без ошибок. "
   ]
  },
  {
   "cell_type": "code",
   "execution_count": 16,
   "metadata": {
    "collapsed": false
   },
   "outputs": [
    {
     "name": "stdout",
     "output_type": "stream",
     "text": [
      "10\n"
     ]
    }
   ],
   "source": [
    "def func():\n",
    "    print(a)\n",
    "\n",
    "a = 10\n",
    "func()"
   ]
  },
  {
   "cell_type": "markdown",
   "metadata": {},
   "source": [
    "Если же инициализировать переменную внутри функции, то использовать её вне функции невозможно. Переменные, значения которых изменяются внутри функции, по умолчанию считаются **локальными**, т.е. доступными только внутри функции. Как только функция заканчивает свою работу, локальная переменная уничтожается."
   ]
  },
  {
   "cell_type": "code",
   "execution_count": 19,
   "metadata": {
    "collapsed": false
   },
   "outputs": [
    {
     "name": "stdout",
     "output_type": "stream",
     "text": [
      "15\n"
     ]
    }
   ],
   "source": [
    "def func():\n",
    "    b = 10\n",
    "\n",
    "b = 15\n",
    "func()\n",
    "print(b)"
   ]
  },
  {
   "cell_type": "markdown",
   "metadata": {},
   "source": [
    "Переменная считается локальной даже в случае, если её присваивание происходило внутри условного оператора (даже если он никогда не выполнится). Например, такой код завершится ошибкой, так как локальная переменная *с* на момент ее вызова еще не объявлена в теле функции:"
   ]
  },
  {
   "cell_type": "code",
   "execution_count": 20,
   "metadata": {
    "collapsed": false,
    "scrolled": true
   },
   "outputs": [
    {
     "ename": "UnboundLocalError",
     "evalue": "local variable 'c' referenced before assignment",
     "output_type": "error",
     "traceback": [
      "\u001b[0;31m---------------------------------------------------------------------------\u001b[0m",
      "\u001b[0;31mUnboundLocalError\u001b[0m                         Traceback (most recent call last)",
      "\u001b[0;32m<ipython-input-20-1b57e5313684>\u001b[0m in \u001b[0;36m<module>\u001b[0;34m()\u001b[0m\n\u001b[1;32m      5\u001b[0m \u001b[1;33m\u001b[0m\u001b[0m\n\u001b[1;32m      6\u001b[0m \u001b[0mc\u001b[0m \u001b[1;33m=\u001b[0m \u001b[1;36m15\u001b[0m\u001b[1;33m\u001b[0m\u001b[0m\n\u001b[0;32m----> 7\u001b[0;31m \u001b[0mfunc\u001b[0m\u001b[1;33m(\u001b[0m\u001b[1;33m)\u001b[0m\u001b[1;33m\u001b[0m\u001b[0m\n\u001b[0m",
      "\u001b[0;32m<ipython-input-20-1b57e5313684>\u001b[0m in \u001b[0;36mfunc\u001b[0;34m()\u001b[0m\n\u001b[1;32m      1\u001b[0m \u001b[1;32mdef\u001b[0m \u001b[0mfunc\u001b[0m\u001b[1;33m(\u001b[0m\u001b[1;33m)\u001b[0m\u001b[1;33m:\u001b[0m\u001b[1;33m\u001b[0m\u001b[0m\n\u001b[0;32m----> 2\u001b[0;31m     \u001b[0mprint\u001b[0m\u001b[1;33m(\u001b[0m\u001b[0mc\u001b[0m\u001b[1;33m)\u001b[0m\u001b[1;33m\u001b[0m\u001b[0m\n\u001b[0m\u001b[1;32m      3\u001b[0m     \u001b[1;32mif\u001b[0m \u001b[1;32mFalse\u001b[0m\u001b[1;33m:\u001b[0m\u001b[1;33m\u001b[0m\u001b[0m\n\u001b[1;32m      4\u001b[0m         \u001b[0mc\u001b[0m \u001b[1;33m=\u001b[0m \u001b[1;36m0\u001b[0m\u001b[1;33m\u001b[0m\u001b[0m\n\u001b[1;32m      5\u001b[0m \u001b[1;33m\u001b[0m\u001b[0m\n",
      "\u001b[0;31mUnboundLocalError\u001b[0m: local variable 'c' referenced before assignment"
     ]
    }
   ],
   "source": [
    "def func():\n",
    "    print(c)\n",
    "    if False:\n",
    "        c = 0\n",
    "\n",
    "c = 15\n",
    "func()"
   ]
  },
  {
   "cell_type": "markdown",
   "metadata": {},
   "source": [
    "### Команда global"
   ]
  },
  {
   "cell_type": "markdown",
   "metadata": {},
   "source": [
    "С помощью специальной команды **global** можно сделать так, что функция сможет изменить значение глобальной переменной. Для этого нужно записать в начале функции слово global, а затем через запятую перечислить имена глобальных переменных, которые функция сможет менять."
   ]
  },
  {
   "cell_type": "code",
   "execution_count": 22,
   "metadata": {
    "collapsed": false
   },
   "outputs": [
    {
     "name": "stdout",
     "output_type": "stream",
     "text": [
      "42\n"
     ]
    }
   ],
   "source": [
    "def func():\n",
    "    global d\n",
    "    d = 42\n",
    "\n",
    "d = 0\n",
    "func()\n",
    "print(d)"
   ]
  },
  {
   "cell_type": "markdown",
   "metadata": {},
   "source": [
    "### Команда local"
   ]
  },
  {
   "cell_type": "markdown",
   "metadata": {},
   "source": [
    "В случае, если необходимо внутри функции обратиться к неглобальной переменной, объявленной в некоторой объемлющей функции, используется команда **nonlocal**:"
   ]
  },
  {
   "cell_type": "code",
   "execution_count": 32,
   "metadata": {
    "collapsed": false
   },
   "outputs": [
    {
     "name": "stdout",
     "output_type": "stream",
     "text": [
      "2\n"
     ]
    }
   ],
   "source": [
    "def func():\n",
    "    state = 1\n",
    "    def test():\n",
    "        nonlocal state\n",
    "        state += 1\n",
    "    test()\n",
    "    print(state)\n",
    "\n",
    "func()"
   ]
  },
  {
   "cell_type": "markdown",
   "metadata": {},
   "source": [
    "## Аргументы"
   ]
  },
  {
   "cell_type": "markdown",
   "metadata": {},
   "source": [
    "Аргументы передаются через автоматическое присваивание объектов локальным переменным. Аргументы функции – ссылки на объекты. Сами объекты никогда не копируются автоматически.\n",
    "\n",
    "\n",
    "Неизменяемые объекты передаются **«по значению»**. Такие объекты, как целые числа и строки, передаются в виде ссылок на объекты, но так как неизменяемые объекты невозможно изменить непосредственно, передача таких объектов очень напоминает копирование.\n",
    "При изменении внутри функции такого аргумента, в основном коде программы его значение не изменится. "
   ]
  },
  {
   "cell_type": "code",
   "execution_count": 11,
   "metadata": {
    "collapsed": false
   },
   "outputs": [
    {
     "name": "stdout",
     "output_type": "stream",
     "text": [
      "17\n"
     ]
    }
   ],
   "source": [
    "def func(a):\n",
    "    a += 1 # Меняем неизменяемый объект\n",
    "\n",
    "a = 17\n",
    "func(a)\n",
    "print(a) # Число не изменилось"
   ]
  },
  {
   "cell_type": "markdown",
   "metadata": {},
   "source": [
    "Изменяемые объекты передаются **«по указателю»**. Такие объекты, как списки и словари, передаются в виде ссылок на объекты. Изменяемые объекты могут рассматриваться функциями как средство ввода, так и вывода информации."
   ]
  },
  {
   "cell_type": "code",
   "execution_count": 10,
   "metadata": {
    "collapsed": false
   },
   "outputs": [
    {
     "name": "stdout",
     "output_type": "stream",
     "text": [
      "[17]\n"
     ]
    }
   ],
   "source": [
    "def func(a):\n",
    "    a.append(17) # Меняем изменяемый объект\n",
    "    \n",
    "a = []\n",
    "func(a)\n",
    "print(a) # Массив изменился"
   ]
  },
  {
   "cell_type": "markdown",
   "metadata": {
    "collapsed": true
   },
   "source": [
    "## Аннотация типов"
   ]
  },
  {
   "cell_type": "markdown",
   "metadata": {},
   "source": [
    "Python - язык с динамической типизацией. В связи с этим, определение и проверка типа используемого объекта представляет собой достаточно большую сложность. Из-за этого разработчикам бывает сложно понять, что делает написанный кем-то другим код, и, что самое важное, ограничивается функционал инструментов проверки типов во многих средах разработки, который позволяет автоматически находить ошибки еще на этапе написания кода. \n",
    "\n",
    "Чтобы упростить эту задачу, используется недавно введенная **аннотация типов**. При этом аннотации типов - это дополнительная возможность языка, которая не является чем-то обязательным к использованию.\n",
    "\n",
    "Комментарии вида **# type: type** позволяют во время определения переменной указать тип объекта, если он не является очевидным. "
   ]
  },
  {
   "cell_type": "code",
   "execution_count": 18,
   "metadata": {
    "collapsed": false
   },
   "outputs": [],
   "source": [
    "a = 17 # type: int"
   ]
  },
  {
   "cell_type": "markdown",
   "metadata": {},
   "source": [
    "Обратите внимание, если мы хотим использовать объекты-контейнеры (списки, кортежи ... ) и помимо типа объекта нужно указать тип содержимого, в аннотациях необходимо указывать типы из **typing** модуля. Они поддерживают индексацию, что позволяет указывать не только тип контейнера, но и тип элементов внутри."
   ]
  },
  {
   "cell_type": "code",
   "execution_count": 19,
   "metadata": {
    "collapsed": false
   },
   "outputs": [],
   "source": [
    "from typing import List\n",
    "\n",
    "a = [] # type: List[str]"
   ]
  },
  {
   "cell_type": "markdown",
   "metadata": {},
   "source": [
    "Также аннотации — это выражения, которые описывают параметры и возвращаемое значение функции. "
   ]
  },
  {
   "cell_type": "code",
   "execution_count": 23,
   "metadata": {
    "collapsed": false
   },
   "outputs": [
    {
     "name": "stdout",
     "output_type": "stream",
     "text": [
      "3 sheeps\n"
     ]
    }
   ],
   "source": [
    "def func(a: int, b: str) -> str:\n",
    "    return str(a) + ' ' + b\n",
    "\n",
    "print(func(3, \"sheeps\"))"
   ]
  },
  {
   "cell_type": "markdown",
   "metadata": {},
   "source": [
    "Все это имеет значение только в средах разработки, поддерживающих аннотацию типов (например, PyCharm), или при использовании специальных библиотек (например, mypy).  "
   ]
  },
  {
   "cell_type": "markdown",
   "metadata": {},
   "source": [
    "## Функции высшего порядка"
   ]
  },
  {
   "cell_type": "markdown",
   "metadata": {},
   "source": [
    "Функцию, принимающую другую функцию в качестве аргумента и/или возвращающую другую функцию, называют функцией высшего порядка. "
   ]
  },
  {
   "cell_type": "markdown",
   "metadata": {},
   "source": [
    "### Функция map"
   ]
  },
  {
   "cell_type": "markdown",
   "metadata": {},
   "source": [
    "В случае, когда нужно применить некоторую функцию к каждому элементу списка, используется функция **map**. Первым параметром в нее подается имя функции, а вторым - список. Возвращает она map object, который легко преобразуется в список конструктором **list**. "
   ]
  },
  {
   "cell_type": "code",
   "execution_count": 31,
   "metadata": {
    "collapsed": false
   },
   "outputs": [
    {
     "name": "stdout",
     "output_type": "stream",
     "text": [
      "[1, 4, 9, 16]\n"
     ]
    }
   ],
   "source": [
    "def func(a):\n",
    "    return a * a\n",
    "\n",
    "b = [1, 2, 3, 4]\n",
    "print(list(map(func, b)))"
   ]
  },
  {
   "cell_type": "markdown",
   "metadata": {},
   "source": [
    "Также в функцию map можно передать функцию, принимающую несколько аргументов, и столько же списков - тогда она применит поданную функцию к каждому набору элементов с одинаковыми индексами. В таком случае списки должны быть одинаковой длины. "
   ]
  },
  {
   "cell_type": "code",
   "execution_count": 35,
   "metadata": {
    "collapsed": false
   },
   "outputs": [
    {
     "name": "stdout",
     "output_type": "stream",
     "text": [
      "[11, 10, 9, 8]\n"
     ]
    }
   ],
   "source": [
    "def func(x, y):\n",
    "    return x + y\n",
    "\n",
    "a = [10, 8, 6, 4]\n",
    "b = [1, 2, 3, 4]\n",
    "print(list(map(func, a, b)))"
   ]
  },
  {
   "cell_type": "markdown",
   "metadata": {},
   "source": [
    "### Функция zip"
   ]
  },
  {
   "cell_type": "markdown",
   "metadata": {},
   "source": [
    "Функция **zip** принимает произвольное количество списков, объединяет элементы с одинаковыми индексами в кортежи и возвращает zip object. Его, как и map object, легко преобразовать в список. "
   ]
  },
  {
   "cell_type": "code",
   "execution_count": 42,
   "metadata": {
    "collapsed": false
   },
   "outputs": [
    {
     "name": "stdout",
     "output_type": "stream",
     "text": [
      "[(10, 1), (8, 2), (6, 3), (4, 4)]\n"
     ]
    }
   ],
   "source": [
    "a = [10, 8, 6, 4]\n",
    "b = [1, 2, 3, 4]\n",
    "print(list(zip(a, b)))"
   ]
  },
  {
   "cell_type": "markdown",
   "metadata": {},
   "source": [
    "### Функция reduce"
   ]
  },
  {
   "cell_type": "markdown",
   "metadata": {},
   "source": [
    "Функция **reduce** из модуля  functools принимает 2 аргумента: функцию и последовательность. Она последовательно применяет функцию к элементу и предыдущему полученному значению. "
   ]
  },
  {
   "cell_type": "code",
   "execution_count": 49,
   "metadata": {
    "collapsed": false
   },
   "outputs": [
    {
     "name": "stdout",
     "output_type": "stream",
     "text": [
      "1920\n"
     ]
    }
   ],
   "source": [
    "from functools import reduce\n",
    "\n",
    "def func(x, y):\n",
    "    return x * y\n",
    "\n",
    "a = [10, 8, 6, 4]\n",
    "print(reduce(func, a)) # Посчитаем произведение всех элементов списка"
   ]
  },
  {
   "cell_type": "markdown",
   "metadata": {},
   "source": [
    "## Анонимные функции (lambda)"
   ]
  },
  {
   "cell_type": "markdown",
   "metadata": {},
   "source": [
    "Python разрешает создание анонимных функций (функции, которые не связаны с именем), используя конструкцию **lambda**. Определение lambda-функции не включает оператор return — эта конструкция всегда содержит выражение, результат которого возвращается. Вместо стандартного определения функции через def бывает удобнее использовать именно анонимные функции - например, в случаях однократного применения небольшой функции. "
   ]
  },
  {
   "cell_type": "code",
   "execution_count": 54,
   "metadata": {
    "collapsed": false
   },
   "outputs": [
    {
     "name": "stdout",
     "output_type": "stream",
     "text": [
      "16\n",
      "25\n"
     ]
    }
   ],
   "source": [
    "def func(x):\n",
    "    return x * x\n",
    "\n",
    "g = lambda x: x * x\n",
    "print(func(4))\n",
    "print(g(5))"
   ]
  },
  {
   "cell_type": "markdown",
   "metadata": {},
   "source": [
    "Можно использовать lambda-функции и в функциях высшего порядка: "
   ]
  },
  {
   "cell_type": "code",
   "execution_count": 58,
   "metadata": {
    "collapsed": false
   },
   "outputs": [
    {
     "name": "stdout",
     "output_type": "stream",
     "text": [
      "[11, 10, 9, 8]\n"
     ]
    }
   ],
   "source": [
    "a = [10, 8, 6, 4]\n",
    "b = [1, 2, 3, 4]\n",
    "print(list(map(lambda x, y: x + y, a, b)))"
   ]
  },
  {
   "cell_type": "markdown",
   "metadata": {},
   "source": [
    "Для демонстрации возможностей lambda-функций приведем следующий пример. Определим функцию *make_incrementor*, которая создает анонимную функцию на лету и возвращает ее. Возвращенная функция увеличивает свой аргумент на значение, которое было определено, когда она была создана."
   ]
  },
  {
   "cell_type": "code",
   "execution_count": 60,
   "metadata": {
    "collapsed": false
   },
   "outputs": [
    {
     "name": "stdout",
     "output_type": "stream",
     "text": [
      "15\n"
     ]
    }
   ],
   "source": [
    "def make_incrementor(n):\n",
    "    return lambda x: x + n\n",
    "\n",
    "func = make_incrementor(5)\n",
    "print(func(10))"
   ]
  },
  {
   "cell_type": "markdown",
   "metadata": {},
   "source": [
    "## Рекуррентные отношения"
   ]
  },
  {
   "cell_type": "markdown",
   "metadata": {},
   "source": [
    "Рекуррентными соотношениями называются соотношения (равенства, системы равенств, правила), позволяющие свести решение одной задачи к решению аналогичной задачи меньшей размерности, т.е., зависящей параметров, меньших по значению. К примеру, рекуррентным соотношением является решение задачи о кроликах, прославившей пизанского математика Фибоначчи. \n",
    "\n",
    "*Условие*. Каждая пара кроликов каждый месяц приносит пару кроликов, которые через два месяца снова дают потомство. И так каждый месяц. Вначале имеется одна новорожденная пара, подсчитать, сколько пар кроликов будет через год.\n",
    "\n",
    "*Решение*. Пусть *N(x)* - количество кроликов на x-ый месяц.\n",
    "\n",
    "Тогда *N(1)* = 1, *N(2)* = 1, а *N(i) = N(i - 1) + N(i - 2)*.\n",
    "\n",
    "    Месяц         Количество пар\n",
    "    Январь        1\n",
    "    Февраль       1\n",
    "    Март          2\n",
    "    Апрель        3\n",
    "    Май           5\n",
    "    Июнь          8\n",
    "    Июль          13\n",
    "    Август        21\n",
    "    Сентябрь      34\n",
    "    Октябрь       55\n",
    "    Ноябрь        89\n",
    "    Декабрь       144\n",
    "    Январь        233\n"
   ]
  },
  {
   "cell_type": "markdown",
   "metadata": {},
   "source": [
    "## Рекурсия"
   ]
  },
  {
   "cell_type": "markdown",
   "metadata": {},
   "source": [
    "Рекурсивные функции – функции, которые могут вызывать сами себя, прямо или косвенно, образуя цикл. \n",
    "\n",
    "Приведем пример задачи, которую можно решить с помощью рекурсии. Пусть задается последовательность натуральных чисел, заканчивающаяся нулем. Необходимо развернуть ее. "
   ]
  },
  {
   "cell_type": "code",
   "execution_count": 73,
   "metadata": {
    "collapsed": false
   },
   "outputs": [
    {
     "name": "stdout",
     "output_type": "stream",
     "text": [
      "1\n",
      "2\n",
      "3\n",
      "0\n",
      "3\n",
      "2\n",
      "1\n"
     ]
    }
   ],
   "source": [
    "def rec():\n",
    "    n = int(input())\n",
    "    if n != 0:\n",
    "        rec()\n",
    "        print(n)\n",
    "\n",
    "rec()"
   ]
  },
  {
   "cell_type": "markdown",
   "metadata": {},
   "source": [
    "Эта функция осуществляет действие (вывод числа) на рекурсивном спуске, т.е. после рекурсивного вызова.\n",
    "\n",
    "Рассмотрим еще один пример: подсчитать факториал числа, не пользуясь циклами:"
   ]
  },
  {
   "cell_type": "code",
   "execution_count": 68,
   "metadata": {
    "collapsed": false
   },
   "outputs": [
    {
     "name": "stdout",
     "output_type": "stream",
     "text": [
      "5\n",
      "120\n"
     ]
    }
   ],
   "source": [
    "def factorial(n):\n",
    "    if n == 0:\n",
    "        return 1\n",
    "    return n * factorial(n - 1)\n",
    "\n",
    "n = int(input())\n",
    "print(factorial(n))"
   ]
  },
  {
   "cell_type": "markdown",
   "metadata": {},
   "source": [
    "Очень важно корректно определить условие выхода из рекурсии (в примере выше это момент, когда n = 0), иначе цепочка вызовов функций никогда не завершится и будет продолжаться, пока не кончится свободная память в компьютере. "
   ]
  },
  {
   "cell_type": "markdown",
   "metadata": {},
   "source": []
  }
 ],
 "metadata": {
  "anaconda-cloud": {},
  "kernelspec": {
   "display_name": "Python [default]",
   "language": "python",
   "name": "python3"
  },
  "language_info": {
   "codemirror_mode": {
    "name": "ipython",
    "version": 3
   },
   "file_extension": ".py",
   "mimetype": "text/x-python",
   "name": "python",
   "nbconvert_exporter": "python",
   "pygments_lexer": "ipython3",
   "version": "3.5.2"
  }
 },
 "nbformat": 4,
 "nbformat_minor": 2
}
