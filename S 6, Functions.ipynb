{
 "cells": [
  {
   "cell_type": "markdown",
   "metadata": {},
   "source": [
    "# Функции и рекурсия"
   ]
  },
  {
   "cell_type": "markdown",
   "metadata": {},
   "source": [
    "## Создание функций\n",
    "\n",
    "Чтобы избежать в коде повторения одной и той же логики, используются функции. Функцию можно объявить, пользуясь инструкцией **def**, после которой идет имя функции и в скобочках через запятую перечисляются имена параметров. Тело функции отделяется отступами. Вызывать функцию можно из любого места кода после ее создания. \n",
    "\n",
    "Создадим первую функцию и вызовем ее:"
   ]
  },
  {
   "cell_type": "code",
   "execution_count": 1,
   "metadata": {},
   "outputs": [
    {
     "name": "stdout",
     "output_type": "stream",
     "text": [
      "Hello, world!\n"
     ]
    }
   ],
   "source": [
    "def func(): # Объявим функцию func, не принимающую ни один параметр\n",
    "    print(\"Hello, world!\") # Тело функции\n",
    "\n",
    "func() # Вызовем функцию"
   ]
  },
  {
   "cell_type": "markdown",
   "metadata": {},
   "source": [
    "Функции могут возвращать некоторое значение, и оно передается вызывающей программе с помощью команды **return**. Она может находиться в произвольном месте функции. После выполнения этой команды функция всегда прекращает работу. "
   ]
  },
  {
   "cell_type": "code",
   "execution_count": 2,
   "metadata": {},
   "outputs": [
    {
     "name": "stdout",
     "output_type": "stream",
     "text": [
      "1 2\n",
      "2\n"
     ]
    }
   ],
   "source": [
    "def my_max(a, b): # Напишем функцию max\n",
    "    if a > b:\n",
    "        return a\n",
    "    return b\n",
    "\n",
    "c, d = list(map(int, input().split())) # Считаем два числа, записанных через пробел\n",
    "print(my_max(c, d)) # Посмотрим, что возвратит наша функция "
   ]
  },
  {
   "cell_type": "markdown",
   "metadata": {},
   "source": [
    "Чтобы вернуть несколько значений, достаточно записать их после return через запятую. Аналогично, через запятую должны быть перечислены переменные, в которые будут попадать вычисленные значения."
   ]
  },
  {
   "cell_type": "code",
   "execution_count": 3,
   "metadata": {},
   "outputs": [
    {
     "name": "stdout",
     "output_type": "stream",
     "text": [
      "4 9\n"
     ]
    }
   ],
   "source": [
    "def func(a, b):\n",
    "    return 2 * a, 3 * b\n",
    "\n",
    "c, d = func(2, 3)\n",
    "print(c, d)"
   ]
  },
  {
   "cell_type": "markdown",
   "metadata": {},
   "source": [
    "Чтобы функция принимала произвольное число параметров, можно собрать все переданные параметры в один кортеж, написав звездочку перед его именем. Вот так: "
   ]
  },
  {
   "cell_type": "code",
   "execution_count": 4,
   "metadata": {},
   "outputs": [
    {
     "name": "stdout",
     "output_type": "stream",
     "text": [
      "15\n"
     ]
    }
   ],
   "source": [
    "def my_max(*a):\n",
    "    res = a[0]\n",
    "    for val in a:\n",
    "        if val > res:\n",
    "            res = val\n",
    "    return res\n",
    "\n",
    "print(my_max(10, 3, -1, 15))"
   ]
  },
  {
   "cell_type": "code",
   "execution_count": null,
   "metadata": {
    "collapsed": true
   },
   "outputs": [],
   "source": []
  },
  {
   "cell_type": "code",
   "execution_count": null,
   "metadata": {
    "collapsed": true
   },
   "outputs": [],
   "source": []
  }
 ],
 "metadata": {
  "kernelspec": {
   "display_name": "Python 3",
   "language": "python",
   "name": "python3"
  },
  "language_info": {
   "codemirror_mode": {
    "name": "ipython",
    "version": 3
   },
   "file_extension": ".py",
   "mimetype": "text/x-python",
   "name": "python",
   "nbconvert_exporter": "python",
   "pygments_lexer": "ipython3",
   "version": "3.6.1"
  }
 },
 "nbformat": 4,
 "nbformat_minor": 2
}
