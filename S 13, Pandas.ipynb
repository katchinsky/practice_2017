{
 "cells": [
  {
   "cell_type": "markdown",
   "metadata": {},
   "source": [
    "# Pandas"
   ]
  },
  {
   "cell_type": "markdown",
   "metadata": {},
   "source": [
    "## Series"
   ]
  },
  {
   "cell_type": "markdown",
   "metadata": {},
   "source": [
    "**Series (1D)** – это проиндексированный одномерный массив значений. Он похож на простой словарь типа dict, где имя элемента соответствует ключу, а значение – значению записи.\n",
    "\n",
    "Объект Series можно создать с помощью конструктора Series, принимающего список значений и (дополнительно) список ключей. Если список ключей не указан, ключами станут индексы исходного массива."
   ]
  },
  {
   "cell_type": "code",
   "execution_count": 1,
   "metadata": {
    "collapsed": true
   },
   "outputs": [],
   "source": [
    "import pandas as pd\n",
    "import numpy as np"
   ]
  },
  {
   "cell_type": "code",
   "execution_count": 2,
   "metadata": {
    "collapsed": false
   },
   "outputs": [
    {
     "data": {
      "text/plain": [
       "0   -0.700862\n",
       "1   -0.548212\n",
       "2    0.744591\n",
       "3    0.027711\n",
       "4   -0.737785\n",
       "dtype: float64"
      ]
     },
     "execution_count": 2,
     "metadata": {},
     "output_type": "execute_result"
    }
   ],
   "source": [
    "s = pd.Series(np.random.randn(5)) # Генерация списка из 5 случайных значений\n",
    "s"
   ]
  },
  {
   "cell_type": "code",
   "execution_count": 3,
   "metadata": {
    "collapsed": false
   },
   "outputs": [
    {
     "data": {
      "text/plain": [
       "a    0.986135\n",
       "b    0.424450\n",
       "c   -0.418775\n",
       "d    0.387304\n",
       "e    1.884534\n",
       "dtype: float64"
      ]
     },
     "execution_count": 3,
     "metadata": {},
     "output_type": "execute_result"
    }
   ],
   "source": [
    "s = pd.Series(np.random.randn(5), # Генерация списка из 5 случайных значений\n",
    "              index=['a', 'b', 'c', 'd', 'e']) # Список ключей\n",
    "s"
   ]
  },
  {
   "cell_type": "markdown",
   "metadata": {},
   "source": [
    "Также можно создать такой объект из словаря: "
   ]
  },
  {
   "cell_type": "code",
   "execution_count": 4,
   "metadata": {
    "collapsed": false
   },
   "outputs": [
    {
     "data": {
      "text/plain": [
       "a   -1\n",
       "g    3\n",
       "dtype: int64"
      ]
     },
     "execution_count": 4,
     "metadata": {},
     "output_type": "execute_result"
    }
   ],
   "source": [
    "s_new = pd.Series({'a' : -1, 'g' : 3})\n",
    "s_new"
   ]
  },
  {
   "cell_type": "markdown",
   "metadata": {},
   "source": [
    "Добавить в Series элемент можно, присвоив новое значение по ключу (как в словаре). Изменить значение можно так же:"
   ]
  },
  {
   "cell_type": "code",
   "execution_count": 5,
   "metadata": {
    "collapsed": false,
    "scrolled": true
   },
   "outputs": [
    {
     "data": {
      "text/plain": [
       "a   -10.000000\n",
       "b     0.424450\n",
       "c    -0.418775\n",
       "d     0.387304\n",
       "e     1.884534\n",
       "f     2.000000\n",
       "dtype: float64"
      ]
     },
     "execution_count": 5,
     "metadata": {},
     "output_type": "execute_result"
    }
   ],
   "source": [
    "s['f'] = 2 # Добавление новой пары ключ-значение\n",
    "s['a'] = -10 # Изменение значения для старого ключа\n",
    "s"
   ]
  },
  {
   "cell_type": "markdown",
   "metadata": {},
   "source": [
    "Удалить элемент можно с помощью метода **drop**, который принимает как параметры массив с ключами, которые нужно удалить. Метод **drop** по умолчанию не является inplace-методом -- создавая и возвращая новую табличку без указанного элемента, он не меняет старую."
   ]
  },
  {
   "cell_type": "code",
   "execution_count": 6,
   "metadata": {
    "collapsed": false,
    "scrolled": true
   },
   "outputs": [
    {
     "data": {
      "text/plain": [
       "a   -10.000000\n",
       "b     0.424450\n",
       "c    -0.418775\n",
       "d     0.387304\n",
       "e     1.884534\n",
       "f     2.000000\n",
       "dtype: float64"
      ]
     },
     "execution_count": 6,
     "metadata": {},
     "output_type": "execute_result"
    }
   ],
   "source": [
    "s.drop(['d', 'b'])\n",
    "s"
   ]
  },
  {
   "cell_type": "markdown",
   "metadata": {},
   "source": [
    "Чтобы метод **drop** изменил исходную табличку, необходимо прописать атрибут **inplace=True**. Вот так:"
   ]
  },
  {
   "cell_type": "code",
   "execution_count": 7,
   "metadata": {
    "collapsed": false
   },
   "outputs": [
    {
     "data": {
      "text/plain": [
       "a   -10.000000\n",
       "c    -0.418775\n",
       "e     1.884534\n",
       "f     2.000000\n",
       "dtype: float64"
      ]
     },
     "execution_count": 7,
     "metadata": {},
     "output_type": "execute_result"
    }
   ],
   "source": [
    "s.drop(['d', 'b'], inplace=True)\n",
    "s"
   ]
  },
  {
   "cell_type": "markdown",
   "metadata": {},
   "source": [
    "Списки Series можно объединять с помощью метода **append**:"
   ]
  },
  {
   "cell_type": "code",
   "execution_count": 8,
   "metadata": {
    "collapsed": false,
    "scrolled": false
   },
   "outputs": [
    {
     "data": {
      "text/plain": [
       "a   -10.000000\n",
       "c    -0.418775\n",
       "e     1.884534\n",
       "f     2.000000\n",
       "a    -1.000000\n",
       "g     3.000000\n",
       "dtype: float64"
      ]
     },
     "execution_count": 8,
     "metadata": {},
     "output_type": "execute_result"
    }
   ],
   "source": [
    "s = s.append(s_new)\n",
    "s"
   ]
  },
  {
   "cell_type": "markdown",
   "metadata": {},
   "source": [
    "Как можно заметить, в списке Series ключи не обязательно различны. При попытке изменить значение для ключа, встречающегося в списке неоднократно, меняется значение для *всех* таких ключей."
   ]
  },
  {
   "cell_type": "code",
   "execution_count": 9,
   "metadata": {
    "collapsed": false,
    "scrolled": true
   },
   "outputs": [
    {
     "data": {
      "text/plain": [
       "a    100.000000\n",
       "c     -0.418775\n",
       "e      1.884534\n",
       "f      2.000000\n",
       "a    100.000000\n",
       "g      3.000000\n",
       "dtype: float64"
      ]
     },
     "execution_count": 9,
     "metadata": {},
     "output_type": "execute_result"
    }
   ],
   "source": [
    "s['a'] = 100\n",
    "s"
   ]
  },
  {
   "cell_type": "code",
   "execution_count": 10,
   "metadata": {
    "collapsed": false,
    "scrolled": true
   },
   "outputs": [
    {
     "data": {
      "text/plain": [
       "a    115.000000\n",
       "c     -0.418775\n",
       "e      1.884534\n",
       "f      2.000000\n",
       "a    115.000000\n",
       "g      3.000000\n",
       "dtype: float64"
      ]
     },
     "execution_count": 10,
     "metadata": {},
     "output_type": "execute_result"
    }
   ],
   "source": [
    "s['a'] += 15\n",
    "s"
   ]
  },
  {
   "cell_type": "markdown",
   "metadata": {},
   "source": [
    "Списки Series можно сортировать как по ключам, так и по значениям с помощью методов **sort_values** и **sort_index**."
   ]
  },
  {
   "cell_type": "code",
   "execution_count": 11,
   "metadata": {
    "collapsed": false
   },
   "outputs": [
    {
     "data": {
      "text/plain": [
       "c     -0.418775\n",
       "e      1.884534\n",
       "f      2.000000\n",
       "g      3.000000\n",
       "a    115.000000\n",
       "a    115.000000\n",
       "dtype: float64"
      ]
     },
     "execution_count": 11,
     "metadata": {},
     "output_type": "execute_result"
    }
   ],
   "source": [
    "s = s.sort_values()\n",
    "s"
   ]
  },
  {
   "cell_type": "code",
   "execution_count": 12,
   "metadata": {
    "collapsed": false
   },
   "outputs": [
    {
     "data": {
      "text/plain": [
       "a    115.000000\n",
       "a    115.000000\n",
       "c     -0.418775\n",
       "e      1.884534\n",
       "f      2.000000\n",
       "g      3.000000\n",
       "dtype: float64"
      ]
     },
     "execution_count": 12,
     "metadata": {},
     "output_type": "execute_result"
    }
   ],
   "source": [
    "s = s.sort_index()\n",
    "s"
   ]
  },
  {
   "cell_type": "markdown",
   "metadata": {},
   "source": [
    "Также к спискам Series можно применять арифметические операции, которые выполняются поэлементно. Так, можно сложить два списка одинакового размера, умножить список на число и т.д."
   ]
  },
  {
   "cell_type": "code",
   "execution_count": 52,
   "metadata": {
    "collapsed": false
   },
   "outputs": [
    {
     "data": {
      "text/plain": [
       "a    13225.000000\n",
       "a    13225.000000\n",
       "c        0.175372\n",
       "e        3.551468\n",
       "f        4.000000\n",
       "g        9.000000\n",
       "dtype: float64"
      ]
     },
     "execution_count": 52,
     "metadata": {},
     "output_type": "execute_result"
    }
   ],
   "source": [
    "s * s"
   ]
  },
  {
   "cell_type": "code",
   "execution_count": 53,
   "metadata": {
    "collapsed": false
   },
   "outputs": [
    {
     "data": {
      "text/plain": [
       "a    117.000000\n",
       "a    117.000000\n",
       "c      1.581225\n",
       "e      3.884534\n",
       "f      4.000000\n",
       "g      5.000000\n",
       "dtype: float64"
      ]
     },
     "execution_count": 53,
     "metadata": {},
     "output_type": "execute_result"
    }
   ],
   "source": [
    "s + 2"
   ]
  },
  {
   "cell_type": "markdown",
   "metadata": {},
   "source": [
    "## DataFrame"
   ]
  },
  {
   "cell_type": "markdown",
   "metadata": {},
   "source": [
    "** DataFrame (2D) ** — это проиндексированный двумерный массив значений, соответственно каждый столбец **DataFrame** является структурой **Series**. Он отлично подходит для представления реальных данных: столбцы соответствуют признакам, а  строки - признаковым описаниям отдельных объектов.\n",
    "### Создание\n",
    "DataFrame, как и Series, можно создать из словаря:"
   ]
  },
  {
   "cell_type": "code",
   "execution_count": 14,
   "metadata": {
    "collapsed": false
   },
   "outputs": [
    {
     "data": {
      "text/html": [
       "<div>\n",
       "<table border=\"1\" class=\"dataframe\">\n",
       "  <thead>\n",
       "    <tr style=\"text-align: right;\">\n",
       "      <th></th>\n",
       "      <th>chars</th>\n",
       "      <th>numbers</th>\n",
       "    </tr>\n",
       "  </thead>\n",
       "  <tbody>\n",
       "    <tr>\n",
       "      <th>0</th>\n",
       "      <td>a</td>\n",
       "      <td>1</td>\n",
       "    </tr>\n",
       "    <tr>\n",
       "      <th>1</th>\n",
       "      <td>a</td>\n",
       "      <td>2</td>\n",
       "    </tr>\n",
       "    <tr>\n",
       "      <th>2</th>\n",
       "      <td>a</td>\n",
       "      <td>3</td>\n",
       "    </tr>\n",
       "    <tr>\n",
       "      <th>3</th>\n",
       "      <td>a</td>\n",
       "      <td>4</td>\n",
       "    </tr>\n",
       "    <tr>\n",
       "      <th>4</th>\n",
       "      <td>a</td>\n",
       "      <td>5</td>\n",
       "    </tr>\n",
       "  </tbody>\n",
       "</table>\n",
       "</div>"
      ],
      "text/plain": [
       "  chars  numbers\n",
       "0     a        1\n",
       "1     a        2\n",
       "2     a        3\n",
       "3     a        4\n",
       "4     a        5"
      ]
     },
     "execution_count": 14,
     "metadata": {},
     "output_type": "execute_result"
    }
   ],
   "source": [
    "df = pd.DataFrame({'numbers' : range(1, 6), 'chars' : ['a'] * 5})\n",
    "df"
   ]
  },
  {
   "cell_type": "markdown",
   "metadata": {},
   "source": [
    "Или из двумерного массива. Существует специальный атрибут **columns**, позволяющий прописать заголовки. Если не воспользоваться им, столбцы будут просто пронумерованы."
   ]
  },
  {
   "cell_type": "code",
   "execution_count": 15,
   "metadata": {
    "collapsed": false
   },
   "outputs": [
    {
     "data": {
      "text/html": [
       "<div>\n",
       "<table border=\"1\" class=\"dataframe\">\n",
       "  <thead>\n",
       "    <tr style=\"text-align: right;\">\n",
       "      <th></th>\n",
       "      <th>chars</th>\n",
       "      <th>numbers</th>\n",
       "    </tr>\n",
       "  </thead>\n",
       "  <tbody>\n",
       "    <tr>\n",
       "      <th>0</th>\n",
       "      <td>a</td>\n",
       "      <td>1</td>\n",
       "    </tr>\n",
       "    <tr>\n",
       "      <th>1</th>\n",
       "      <td>b</td>\n",
       "      <td>2</td>\n",
       "    </tr>\n",
       "    <tr>\n",
       "      <th>2</th>\n",
       "      <td>c</td>\n",
       "      <td>3</td>\n",
       "    </tr>\n",
       "  </tbody>\n",
       "</table>\n",
       "</div>"
      ],
      "text/plain": [
       "  chars  numbers\n",
       "0     a        1\n",
       "1     b        2\n",
       "2     c        3"
      ]
     },
     "execution_count": 15,
     "metadata": {},
     "output_type": "execute_result"
    }
   ],
   "source": [
    "df = pd.DataFrame([['a', 1], ['b', 2], ['c', 3]], columns=['chars', 'numbers'])\n",
    "df"
   ]
  },
  {
   "cell_type": "markdown",
   "metadata": {},
   "source": [
    "Однако в большинстве случаев удобнее считывать данные из файла. Это делается с помощью метода **read_csv**. Параметром ему передается путь к файлу, с помощью атрибутов указываются номер строки с заголовками (если они есть) и используемый разделитель."
   ]
  },
  {
   "cell_type": "code",
   "execution_count": 16,
   "metadata": {
    "collapsed": false,
    "scrolled": true
   },
   "outputs": [
    {
     "data": {
      "text/html": [
       "<div>\n",
       "<table border=\"1\" class=\"dataframe\">\n",
       "  <thead>\n",
       "    <tr style=\"text-align: right;\">\n",
       "      <th></th>\n",
       "      <th>number</th>\n",
       "      <th>city</th>\n",
       "      <th>population</th>\n",
       "    </tr>\n",
       "  </thead>\n",
       "  <tbody>\n",
       "    <tr>\n",
       "      <th>0</th>\n",
       "      <td>1</td>\n",
       "      <td>Moscow</td>\n",
       "      <td>12380664</td>\n",
       "    </tr>\n",
       "    <tr>\n",
       "      <th>1</th>\n",
       "      <td>2</td>\n",
       "      <td>Helsinki</td>\n",
       "      <td>620982</td>\n",
       "    </tr>\n",
       "  </tbody>\n",
       "</table>\n",
       "</div>"
      ],
      "text/plain": [
       "   number      city  population\n",
       "0       1    Moscow    12380664\n",
       "1       2  Helsinki      620982"
      ]
     },
     "execution_count": 16,
     "metadata": {},
     "output_type": "execute_result"
    }
   ],
   "source": [
    "df = pd.read_csv(\"df.txt\", header=0, sep='\\t') # Здесь заголовки лежат в первой строке, а разделителем является табуляция\n",
    "df"
   ]
  },
  {
   "cell_type": "markdown",
   "metadata": {},
   "source": [
    "### Добавление данных"
   ]
  },
  {
   "cell_type": "markdown",
   "metadata": {},
   "source": [
    "В DataFrame можно добавить строку, воспользовавшись методом **append**. Если атрибут **ignore_index** = True, то при добавлении новых записей их индексы не будут учитываться. Так как у строки нет индекса, то при ее добавлении *необходимо* прописать ignore_index=True.\n",
    "\n",
    "Прибавим строку, заданную словарем:"
   ]
  },
  {
   "cell_type": "code",
   "execution_count": 17,
   "metadata": {
    "collapsed": false
   },
   "outputs": [
    {
     "data": {
      "text/html": [
       "<div>\n",
       "<table border=\"1\" class=\"dataframe\">\n",
       "  <thead>\n",
       "    <tr style=\"text-align: right;\">\n",
       "      <th></th>\n",
       "      <th>number</th>\n",
       "      <th>city</th>\n",
       "      <th>population</th>\n",
       "    </tr>\n",
       "  </thead>\n",
       "  <tbody>\n",
       "    <tr>\n",
       "      <th>0</th>\n",
       "      <td>1</td>\n",
       "      <td>Moscow</td>\n",
       "      <td>12380664.0</td>\n",
       "    </tr>\n",
       "    <tr>\n",
       "      <th>1</th>\n",
       "      <td>2</td>\n",
       "      <td>Helsinki</td>\n",
       "      <td>620982.0</td>\n",
       "    </tr>\n",
       "    <tr>\n",
       "      <th>2</th>\n",
       "      <td>3</td>\n",
       "      <td>Arzamas</td>\n",
       "      <td>NaN</td>\n",
       "    </tr>\n",
       "  </tbody>\n",
       "</table>\n",
       "</div>"
      ],
      "text/plain": [
       "  number      city  population\n",
       "0      1    Moscow  12380664.0\n",
       "1      2  Helsinki    620982.0\n",
       "2      3   Arzamas         NaN"
      ]
     },
     "execution_count": 17,
     "metadata": {},
     "output_type": "execute_result"
    }
   ],
   "source": [
    "line_1 = {'number' : '3', 'city' : 'Arzamas'}\n",
    "df = df.append(line_1, ignore_index=True)\n",
    "df"
   ]
  },
  {
   "cell_type": "markdown",
   "metadata": {},
   "source": [
    "Это же метод позволяет прибавить и другой DataFrame:"
   ]
  },
  {
   "cell_type": "code",
   "execution_count": 18,
   "metadata": {
    "collapsed": false,
    "scrolled": true
   },
   "outputs": [
    {
     "data": {
      "text/html": [
       "<div>\n",
       "<table border=\"1\" class=\"dataframe\">\n",
       "  <thead>\n",
       "    <tr style=\"text-align: right;\">\n",
       "      <th></th>\n",
       "      <th>number</th>\n",
       "      <th>city</th>\n",
       "      <th>population</th>\n",
       "    </tr>\n",
       "  </thead>\n",
       "  <tbody>\n",
       "    <tr>\n",
       "      <th>0</th>\n",
       "      <td>1</td>\n",
       "      <td>Moscow</td>\n",
       "      <td>12380664.0</td>\n",
       "    </tr>\n",
       "    <tr>\n",
       "      <th>1</th>\n",
       "      <td>2</td>\n",
       "      <td>Helsinki</td>\n",
       "      <td>620982.0</td>\n",
       "    </tr>\n",
       "    <tr>\n",
       "      <th>2</th>\n",
       "      <td>3</td>\n",
       "      <td>Arzamas</td>\n",
       "      <td>NaN</td>\n",
       "    </tr>\n",
       "    <tr>\n",
       "      <th>3</th>\n",
       "      <td>NaN</td>\n",
       "      <td>Belomorsk</td>\n",
       "      <td>9861.0</td>\n",
       "    </tr>\n",
       "    <tr>\n",
       "      <th>4</th>\n",
       "      <td>5</td>\n",
       "      <td>Odessa</td>\n",
       "      <td>1010783.0</td>\n",
       "    </tr>\n",
       "  </tbody>\n",
       "</table>\n",
       "</div>"
      ],
      "text/plain": [
       "  number       city  population\n",
       "0      1     Moscow  12380664.0\n",
       "1      2   Helsinki    620982.0\n",
       "2      3    Arzamas         NaN\n",
       "3    NaN  Belomorsk      9861.0\n",
       "4      5     Odessa   1010783.0"
      ]
     },
     "execution_count": 18,
     "metadata": {},
     "output_type": "execute_result"
    }
   ],
   "source": [
    "df_2 = pd.DataFrame([[np.nan, 'Belomorsk', 9861], [5, 'Odessa', 1010783]],\n",
    "                      columns=['number', 'city', 'population'])\n",
    "df = df.append(df_2, ignore_index=True)\n",
    "df"
   ]
  },
  {
   "cell_type": "markdown",
   "metadata": {},
   "source": [
    "Добавление столбцов происходит так же, как и в словарях. Ключом служит имя столбца, значением -- список, который мы добавляем."
   ]
  },
  {
   "cell_type": "code",
   "execution_count": 19,
   "metadata": {
    "collapsed": false
   },
   "outputs": [
    {
     "data": {
      "text/html": [
       "<div>\n",
       "<table border=\"1\" class=\"dataframe\">\n",
       "  <thead>\n",
       "    <tr style=\"text-align: right;\">\n",
       "      <th></th>\n",
       "      <th>number</th>\n",
       "      <th>city</th>\n",
       "      <th>population</th>\n",
       "      <th>country</th>\n",
       "    </tr>\n",
       "  </thead>\n",
       "  <tbody>\n",
       "    <tr>\n",
       "      <th>0</th>\n",
       "      <td>1</td>\n",
       "      <td>Moscow</td>\n",
       "      <td>12380664.0</td>\n",
       "      <td>Russia</td>\n",
       "    </tr>\n",
       "    <tr>\n",
       "      <th>1</th>\n",
       "      <td>2</td>\n",
       "      <td>Helsinki</td>\n",
       "      <td>620982.0</td>\n",
       "      <td>Finland</td>\n",
       "    </tr>\n",
       "    <tr>\n",
       "      <th>2</th>\n",
       "      <td>3</td>\n",
       "      <td>Arzamas</td>\n",
       "      <td>NaN</td>\n",
       "      <td>Russia</td>\n",
       "    </tr>\n",
       "    <tr>\n",
       "      <th>3</th>\n",
       "      <td>NaN</td>\n",
       "      <td>Belomorsk</td>\n",
       "      <td>9861.0</td>\n",
       "      <td>Russia</td>\n",
       "    </tr>\n",
       "    <tr>\n",
       "      <th>4</th>\n",
       "      <td>5</td>\n",
       "      <td>Odessa</td>\n",
       "      <td>1010783.0</td>\n",
       "      <td>Ukraine</td>\n",
       "    </tr>\n",
       "  </tbody>\n",
       "</table>\n",
       "</div>"
      ],
      "text/plain": [
       "  number       city  population  country\n",
       "0      1     Moscow  12380664.0   Russia\n",
       "1      2   Helsinki    620982.0  Finland\n",
       "2      3    Arzamas         NaN   Russia\n",
       "3    NaN  Belomorsk      9861.0   Russia\n",
       "4      5     Odessa   1010783.0  Ukraine"
      ]
     },
     "execution_count": 19,
     "metadata": {},
     "output_type": "execute_result"
    }
   ],
   "source": [
    "df['country'] = ['Russia', 'Finland', 'Russia', 'Russia', 'Ukraine']\n",
    "df"
   ]
  },
  {
   "cell_type": "markdown",
   "metadata": {},
   "source": [
    "Добавить новый столбец можно и по-другому, используя метод **insert**. Первый параметр указывает, после какого столбца следует добавить столбец, второй параметр - это название нового столбца, а третий - добавляемый список."
   ]
  },
  {
   "cell_type": "code",
   "execution_count": 20,
   "metadata": {
    "collapsed": false,
    "scrolled": true
   },
   "outputs": [
    {
     "data": {
      "text/html": [
       "<div>\n",
       "<table border=\"1\" class=\"dataframe\">\n",
       "  <thead>\n",
       "    <tr style=\"text-align: right;\">\n",
       "      <th></th>\n",
       "      <th>number</th>\n",
       "      <th>city</th>\n",
       "      <th>is_capital</th>\n",
       "      <th>population</th>\n",
       "      <th>country</th>\n",
       "    </tr>\n",
       "  </thead>\n",
       "  <tbody>\n",
       "    <tr>\n",
       "      <th>0</th>\n",
       "      <td>1</td>\n",
       "      <td>Moscow</td>\n",
       "      <td>True</td>\n",
       "      <td>12380664.0</td>\n",
       "      <td>Russia</td>\n",
       "    </tr>\n",
       "    <tr>\n",
       "      <th>1</th>\n",
       "      <td>2</td>\n",
       "      <td>Helsinki</td>\n",
       "      <td>True</td>\n",
       "      <td>620982.0</td>\n",
       "      <td>Finland</td>\n",
       "    </tr>\n",
       "    <tr>\n",
       "      <th>2</th>\n",
       "      <td>3</td>\n",
       "      <td>Arzamas</td>\n",
       "      <td>False</td>\n",
       "      <td>NaN</td>\n",
       "      <td>Russia</td>\n",
       "    </tr>\n",
       "    <tr>\n",
       "      <th>3</th>\n",
       "      <td>NaN</td>\n",
       "      <td>Belomorsk</td>\n",
       "      <td>False</td>\n",
       "      <td>9861.0</td>\n",
       "      <td>Russia</td>\n",
       "    </tr>\n",
       "    <tr>\n",
       "      <th>4</th>\n",
       "      <td>5</td>\n",
       "      <td>Odessa</td>\n",
       "      <td>False</td>\n",
       "      <td>1010783.0</td>\n",
       "      <td>Ukraine</td>\n",
       "    </tr>\n",
       "  </tbody>\n",
       "</table>\n",
       "</div>"
      ],
      "text/plain": [
       "  number       city is_capital  population  country\n",
       "0      1     Moscow       True  12380664.0   Russia\n",
       "1      2   Helsinki       True    620982.0  Finland\n",
       "2      3    Arzamas      False         NaN   Russia\n",
       "3    NaN  Belomorsk      False      9861.0   Russia\n",
       "4      5     Odessa      False   1010783.0  Ukraine"
      ]
     },
     "execution_count": 20,
     "metadata": {},
     "output_type": "execute_result"
    }
   ],
   "source": [
    "is_capital = [True] * 2 + [False] * 3\n",
    "df.insert(2, 'is_capital', is_capital)\n",
    "df"
   ]
  },
  {
   "cell_type": "markdown",
   "metadata": {},
   "source": [
    "### Удаление данных"
   ]
  },
  {
   "cell_type": "markdown",
   "metadata": {},
   "source": [
    "Для удаления строк и столбцов из DataFrame, как и для Series, существует метод **drop**. Как параметр ему нужно передать список названий строк/столбцов и прописать атрибут оси **axis**, равный 0 для строк и 1 для столбцов. Также у drop есть атрибут **inplace**, с которым мы уже сталкивались."
   ]
  },
  {
   "cell_type": "code",
   "execution_count": 21,
   "metadata": {
    "collapsed": false
   },
   "outputs": [
    {
     "data": {
      "text/html": [
       "<div>\n",
       "<table border=\"1\" class=\"dataframe\">\n",
       "  <thead>\n",
       "    <tr style=\"text-align: right;\">\n",
       "      <th></th>\n",
       "      <th>number</th>\n",
       "      <th>city</th>\n",
       "      <th>is_capital</th>\n",
       "      <th>population</th>\n",
       "      <th>country</th>\n",
       "    </tr>\n",
       "  </thead>\n",
       "  <tbody>\n",
       "    <tr>\n",
       "      <th>0</th>\n",
       "      <td>1</td>\n",
       "      <td>Moscow</td>\n",
       "      <td>True</td>\n",
       "      <td>12380664.0</td>\n",
       "      <td>Russia</td>\n",
       "    </tr>\n",
       "    <tr>\n",
       "      <th>1</th>\n",
       "      <td>2</td>\n",
       "      <td>Helsinki</td>\n",
       "      <td>True</td>\n",
       "      <td>620982.0</td>\n",
       "      <td>Finland</td>\n",
       "    </tr>\n",
       "    <tr>\n",
       "      <th>2</th>\n",
       "      <td>3</td>\n",
       "      <td>Arzamas</td>\n",
       "      <td>False</td>\n",
       "      <td>NaN</td>\n",
       "      <td>Russia</td>\n",
       "    </tr>\n",
       "    <tr>\n",
       "      <th>4</th>\n",
       "      <td>5</td>\n",
       "      <td>Odessa</td>\n",
       "      <td>False</td>\n",
       "      <td>1010783.0</td>\n",
       "      <td>Ukraine</td>\n",
       "    </tr>\n",
       "  </tbody>\n",
       "</table>\n",
       "</div>"
      ],
      "text/plain": [
       "  number      city is_capital  population  country\n",
       "0      1    Moscow       True  12380664.0   Russia\n",
       "1      2  Helsinki       True    620982.0  Finland\n",
       "2      3   Arzamas      False         NaN   Russia\n",
       "4      5    Odessa      False   1010783.0  Ukraine"
      ]
     },
     "execution_count": 21,
     "metadata": {},
     "output_type": "execute_result"
    }
   ],
   "source": [
    "df.drop([3], axis=0)"
   ]
  },
  {
   "cell_type": "code",
   "execution_count": 22,
   "metadata": {
    "collapsed": false
   },
   "outputs": [
    {
     "data": {
      "text/html": [
       "<div>\n",
       "<table border=\"1\" class=\"dataframe\">\n",
       "  <thead>\n",
       "    <tr style=\"text-align: right;\">\n",
       "      <th></th>\n",
       "      <th>city</th>\n",
       "      <th>is_capital</th>\n",
       "      <th>population</th>\n",
       "      <th>country</th>\n",
       "    </tr>\n",
       "  </thead>\n",
       "  <tbody>\n",
       "    <tr>\n",
       "      <th>0</th>\n",
       "      <td>Moscow</td>\n",
       "      <td>True</td>\n",
       "      <td>12380664.0</td>\n",
       "      <td>Russia</td>\n",
       "    </tr>\n",
       "    <tr>\n",
       "      <th>1</th>\n",
       "      <td>Helsinki</td>\n",
       "      <td>True</td>\n",
       "      <td>620982.0</td>\n",
       "      <td>Finland</td>\n",
       "    </tr>\n",
       "    <tr>\n",
       "      <th>2</th>\n",
       "      <td>Arzamas</td>\n",
       "      <td>False</td>\n",
       "      <td>NaN</td>\n",
       "      <td>Russia</td>\n",
       "    </tr>\n",
       "    <tr>\n",
       "      <th>3</th>\n",
       "      <td>Belomorsk</td>\n",
       "      <td>False</td>\n",
       "      <td>9861.0</td>\n",
       "      <td>Russia</td>\n",
       "    </tr>\n",
       "    <tr>\n",
       "      <th>4</th>\n",
       "      <td>Odessa</td>\n",
       "      <td>False</td>\n",
       "      <td>1010783.0</td>\n",
       "      <td>Ukraine</td>\n",
       "    </tr>\n",
       "  </tbody>\n",
       "</table>\n",
       "</div>"
      ],
      "text/plain": [
       "        city is_capital  population  country\n",
       "0     Moscow       True  12380664.0   Russia\n",
       "1   Helsinki       True    620982.0  Finland\n",
       "2    Arzamas      False         NaN   Russia\n",
       "3  Belomorsk      False      9861.0   Russia\n",
       "4     Odessa      False   1010783.0  Ukraine"
      ]
     },
     "execution_count": 22,
     "metadata": {},
     "output_type": "execute_result"
    }
   ],
   "source": [
    "df.drop(['number'], axis=1, inplace=True)\n",
    "df"
   ]
  },
  {
   "cell_type": "markdown",
   "metadata": {},
   "source": [
    "### Объединение таблиц"
   ]
  },
  {
   "cell_type": "markdown",
   "metadata": {},
   "source": [
    "Для того, чтобы объединить две таблицы, существуют функции **merge** и **concat**."
   ]
  },
  {
   "cell_type": "code",
   "execution_count": 23,
   "metadata": {
    "collapsed": false
   },
   "outputs": [
    {
     "data": {
      "text/html": [
       "<div>\n",
       "<table border=\"1\" class=\"dataframe\">\n",
       "  <thead>\n",
       "    <tr style=\"text-align: right;\">\n",
       "      <th></th>\n",
       "      <th>number</th>\n",
       "      <th>city</th>\n",
       "      <th>population</th>\n",
       "      <th>mayor</th>\n",
       "    </tr>\n",
       "  </thead>\n",
       "  <tbody>\n",
       "    <tr>\n",
       "      <th>0</th>\n",
       "      <td>1</td>\n",
       "      <td>Moscow</td>\n",
       "      <td>NaN</td>\n",
       "      <td>Sobyanin</td>\n",
       "    </tr>\n",
       "    <tr>\n",
       "      <th>1</th>\n",
       "      <td>2</td>\n",
       "      <td>Helsinki</td>\n",
       "      <td>620982.0</td>\n",
       "      <td>Vapaavuori</td>\n",
       "    </tr>\n",
       "    <tr>\n",
       "      <th>2</th>\n",
       "      <td>10</td>\n",
       "      <td>Yaroslavl</td>\n",
       "      <td>608079.0</td>\n",
       "      <td>Slepcov</td>\n",
       "    </tr>\n",
       "  </tbody>\n",
       "</table>\n",
       "</div>"
      ],
      "text/plain": [
       "   number       city  population       mayor\n",
       "0       1     Moscow         NaN    Sobyanin\n",
       "1       2   Helsinki    620982.0  Vapaavuori\n",
       "2      10  Yaroslavl    608079.0     Slepcov"
      ]
     },
     "execution_count": 23,
     "metadata": {},
     "output_type": "execute_result"
    }
   ],
   "source": [
    "df3 = pd.read_csv(\"df3.txt\", header=0, sep='\\t')\n",
    "df3"
   ]
  },
  {
   "cell_type": "markdown",
   "metadata": {},
   "source": [
    "В качестве параметров функции **merge** подаются две таблицы, для которых можно указать список тех столбцов, которые должны оказаться в новой таблице. Атрибут **on** нужен для обозначения списка столбцов-ключей. Также существует атрибут **how**, который определяет, каким образом будут сливаться таблицы. Ниже представлены его возможные значения и соответственно строки, которые окажутся в новой таблице:\n",
    "* 'inner': значение строки в столбце-ключе встречается в обеих таблицах. \n",
    "* 'outer': значение строки в столбце-ключе встречается хотя бы в одной таблице. \n",
    "* 'left': значение строки в столбце-ключе встречается в левой таблице.\n",
    "* 'right': значение строки в столбце-ключе встречается в правой таблице."
   ]
  },
  {
   "cell_type": "code",
   "execution_count": 24,
   "metadata": {
    "collapsed": false
   },
   "outputs": [
    {
     "data": {
      "text/html": [
       "<div>\n",
       "<table border=\"1\" class=\"dataframe\">\n",
       "  <thead>\n",
       "    <tr style=\"text-align: right;\">\n",
       "      <th></th>\n",
       "      <th>city</th>\n",
       "      <th>is_capital</th>\n",
       "      <th>population</th>\n",
       "      <th>country</th>\n",
       "      <th>mayor</th>\n",
       "    </tr>\n",
       "  </thead>\n",
       "  <tbody>\n",
       "    <tr>\n",
       "      <th>0</th>\n",
       "      <td>Moscow</td>\n",
       "      <td>True</td>\n",
       "      <td>12380664.0</td>\n",
       "      <td>Russia</td>\n",
       "      <td>Sobyanin</td>\n",
       "    </tr>\n",
       "    <tr>\n",
       "      <th>1</th>\n",
       "      <td>Helsinki</td>\n",
       "      <td>True</td>\n",
       "      <td>620982.0</td>\n",
       "      <td>Finland</td>\n",
       "      <td>Vapaavuori</td>\n",
       "    </tr>\n",
       "  </tbody>\n",
       "</table>\n",
       "</div>"
      ],
      "text/plain": [
       "       city is_capital  population  country       mayor\n",
       "0    Moscow       True  12380664.0   Russia    Sobyanin\n",
       "1  Helsinki       True    620982.0  Finland  Vapaavuori"
      ]
     },
     "execution_count": 24,
     "metadata": {},
     "output_type": "execute_result"
    }
   ],
   "source": [
    "pd.merge(df, df3[['mayor', 'city']], how='inner', on='city') # Возьмем все столбцы из первой таблицы,\n",
    "                                                            # добавим столбец с мэрами и городами из второй. \n",
    "                                                            # Пересечем таблицы по названию городов"
   ]
  },
  {
   "cell_type": "code",
   "execution_count": 25,
   "metadata": {
    "collapsed": false
   },
   "outputs": [
    {
     "data": {
      "text/html": [
       "<div>\n",
       "<table border=\"1\" class=\"dataframe\">\n",
       "  <thead>\n",
       "    <tr style=\"text-align: right;\">\n",
       "      <th></th>\n",
       "      <th>city</th>\n",
       "      <th>is_capital</th>\n",
       "      <th>population_x</th>\n",
       "      <th>country</th>\n",
       "      <th>number</th>\n",
       "      <th>population_y</th>\n",
       "      <th>mayor</th>\n",
       "    </tr>\n",
       "  </thead>\n",
       "  <tbody>\n",
       "    <tr>\n",
       "      <th>0</th>\n",
       "      <td>Moscow</td>\n",
       "      <td>True</td>\n",
       "      <td>12380664.0</td>\n",
       "      <td>Russia</td>\n",
       "      <td>1.0</td>\n",
       "      <td>NaN</td>\n",
       "      <td>Sobyanin</td>\n",
       "    </tr>\n",
       "    <tr>\n",
       "      <th>1</th>\n",
       "      <td>Helsinki</td>\n",
       "      <td>True</td>\n",
       "      <td>620982.0</td>\n",
       "      <td>Finland</td>\n",
       "      <td>2.0</td>\n",
       "      <td>620982.0</td>\n",
       "      <td>Vapaavuori</td>\n",
       "    </tr>\n",
       "    <tr>\n",
       "      <th>2</th>\n",
       "      <td>Arzamas</td>\n",
       "      <td>False</td>\n",
       "      <td>NaN</td>\n",
       "      <td>Russia</td>\n",
       "      <td>NaN</td>\n",
       "      <td>NaN</td>\n",
       "      <td>NaN</td>\n",
       "    </tr>\n",
       "    <tr>\n",
       "      <th>3</th>\n",
       "      <td>Belomorsk</td>\n",
       "      <td>False</td>\n",
       "      <td>9861.0</td>\n",
       "      <td>Russia</td>\n",
       "      <td>NaN</td>\n",
       "      <td>NaN</td>\n",
       "      <td>NaN</td>\n",
       "    </tr>\n",
       "    <tr>\n",
       "      <th>4</th>\n",
       "      <td>Odessa</td>\n",
       "      <td>False</td>\n",
       "      <td>1010783.0</td>\n",
       "      <td>Ukraine</td>\n",
       "      <td>NaN</td>\n",
       "      <td>NaN</td>\n",
       "      <td>NaN</td>\n",
       "    </tr>\n",
       "  </tbody>\n",
       "</table>\n",
       "</div>"
      ],
      "text/plain": [
       "        city is_capital  population_x  country  number  population_y  \\\n",
       "0     Moscow       True    12380664.0   Russia     1.0           NaN   \n",
       "1   Helsinki       True      620982.0  Finland     2.0      620982.0   \n",
       "2    Arzamas      False           NaN   Russia     NaN           NaN   \n",
       "3  Belomorsk      False        9861.0   Russia     NaN           NaN   \n",
       "4     Odessa      False     1010783.0  Ukraine     NaN           NaN   \n",
       "\n",
       "        mayor  \n",
       "0    Sobyanin  \n",
       "1  Vapaavuori  \n",
       "2         NaN  \n",
       "3         NaN  \n",
       "4         NaN  "
      ]
     },
     "execution_count": 25,
     "metadata": {},
     "output_type": "execute_result"
    }
   ],
   "source": [
    "pd.merge(df, df3, how='left', on='city') # Cделаем то же самое, но из второй таблицы будут добавлены все столбцы.\n",
    "                                        # Названия городов возьмем из первой таблицы"
   ]
  },
  {
   "cell_type": "markdown",
   "metadata": {},
   "source": [
    "Функция **concat** принимает массив из объектов, которые следует объединить, и имеет атрибут **axis** - по какой из осей нужно соединять таблицы. "
   ]
  },
  {
   "cell_type": "code",
   "execution_count": 26,
   "metadata": {
    "collapsed": false,
    "scrolled": true
   },
   "outputs": [
    {
     "data": {
      "text/html": [
       "<div>\n",
       "<table border=\"1\" class=\"dataframe\">\n",
       "  <thead>\n",
       "    <tr style=\"text-align: right;\">\n",
       "      <th></th>\n",
       "      <th>city</th>\n",
       "      <th>country</th>\n",
       "      <th>is_capital</th>\n",
       "      <th>mayor</th>\n",
       "      <th>number</th>\n",
       "      <th>population</th>\n",
       "    </tr>\n",
       "  </thead>\n",
       "  <tbody>\n",
       "    <tr>\n",
       "      <th>0</th>\n",
       "      <td>Moscow</td>\n",
       "      <td>Russia</td>\n",
       "      <td>True</td>\n",
       "      <td>NaN</td>\n",
       "      <td>NaN</td>\n",
       "      <td>12380664.0</td>\n",
       "    </tr>\n",
       "    <tr>\n",
       "      <th>1</th>\n",
       "      <td>Helsinki</td>\n",
       "      <td>Finland</td>\n",
       "      <td>True</td>\n",
       "      <td>NaN</td>\n",
       "      <td>NaN</td>\n",
       "      <td>620982.0</td>\n",
       "    </tr>\n",
       "    <tr>\n",
       "      <th>2</th>\n",
       "      <td>Arzamas</td>\n",
       "      <td>Russia</td>\n",
       "      <td>False</td>\n",
       "      <td>NaN</td>\n",
       "      <td>NaN</td>\n",
       "      <td>NaN</td>\n",
       "    </tr>\n",
       "    <tr>\n",
       "      <th>3</th>\n",
       "      <td>Belomorsk</td>\n",
       "      <td>Russia</td>\n",
       "      <td>False</td>\n",
       "      <td>NaN</td>\n",
       "      <td>NaN</td>\n",
       "      <td>9861.0</td>\n",
       "    </tr>\n",
       "    <tr>\n",
       "      <th>4</th>\n",
       "      <td>Odessa</td>\n",
       "      <td>Ukraine</td>\n",
       "      <td>False</td>\n",
       "      <td>NaN</td>\n",
       "      <td>NaN</td>\n",
       "      <td>1010783.0</td>\n",
       "    </tr>\n",
       "    <tr>\n",
       "      <th>0</th>\n",
       "      <td>Moscow</td>\n",
       "      <td>NaN</td>\n",
       "      <td>NaN</td>\n",
       "      <td>Sobyanin</td>\n",
       "      <td>1.0</td>\n",
       "      <td>NaN</td>\n",
       "    </tr>\n",
       "    <tr>\n",
       "      <th>1</th>\n",
       "      <td>Helsinki</td>\n",
       "      <td>NaN</td>\n",
       "      <td>NaN</td>\n",
       "      <td>Vapaavuori</td>\n",
       "      <td>2.0</td>\n",
       "      <td>620982.0</td>\n",
       "    </tr>\n",
       "    <tr>\n",
       "      <th>2</th>\n",
       "      <td>Yaroslavl</td>\n",
       "      <td>NaN</td>\n",
       "      <td>NaN</td>\n",
       "      <td>Slepcov</td>\n",
       "      <td>10.0</td>\n",
       "      <td>608079.0</td>\n",
       "    </tr>\n",
       "  </tbody>\n",
       "</table>\n",
       "</div>"
      ],
      "text/plain": [
       "        city  country is_capital       mayor  number  population\n",
       "0     Moscow   Russia       True         NaN     NaN  12380664.0\n",
       "1   Helsinki  Finland       True         NaN     NaN    620982.0\n",
       "2    Arzamas   Russia      False         NaN     NaN         NaN\n",
       "3  Belomorsk   Russia      False         NaN     NaN      9861.0\n",
       "4     Odessa  Ukraine      False         NaN     NaN   1010783.0\n",
       "0     Moscow      NaN        NaN    Sobyanin     1.0         NaN\n",
       "1   Helsinki      NaN        NaN  Vapaavuori     2.0    620982.0\n",
       "2  Yaroslavl      NaN        NaN     Slepcov    10.0    608079.0"
      ]
     },
     "execution_count": 26,
     "metadata": {},
     "output_type": "execute_result"
    }
   ],
   "source": [
    "pd.concat([df, df3], axis=0)"
   ]
  },
  {
   "cell_type": "code",
   "execution_count": 27,
   "metadata": {
    "collapsed": false
   },
   "outputs": [
    {
     "data": {
      "text/html": [
       "<div>\n",
       "<table border=\"1\" class=\"dataframe\">\n",
       "  <thead>\n",
       "    <tr style=\"text-align: right;\">\n",
       "      <th></th>\n",
       "      <th>city</th>\n",
       "      <th>is_capital</th>\n",
       "      <th>population</th>\n",
       "      <th>country</th>\n",
       "      <th>mayor</th>\n",
       "    </tr>\n",
       "  </thead>\n",
       "  <tbody>\n",
       "    <tr>\n",
       "      <th>0</th>\n",
       "      <td>Moscow</td>\n",
       "      <td>True</td>\n",
       "      <td>12380664.0</td>\n",
       "      <td>Russia</td>\n",
       "      <td>Sobyanin</td>\n",
       "    </tr>\n",
       "    <tr>\n",
       "      <th>1</th>\n",
       "      <td>Helsinki</td>\n",
       "      <td>True</td>\n",
       "      <td>620982.0</td>\n",
       "      <td>Finland</td>\n",
       "      <td>Vapaavuori</td>\n",
       "    </tr>\n",
       "    <tr>\n",
       "      <th>2</th>\n",
       "      <td>Arzamas</td>\n",
       "      <td>False</td>\n",
       "      <td>NaN</td>\n",
       "      <td>Russia</td>\n",
       "      <td>Slepcov</td>\n",
       "    </tr>\n",
       "    <tr>\n",
       "      <th>3</th>\n",
       "      <td>Belomorsk</td>\n",
       "      <td>False</td>\n",
       "      <td>9861.0</td>\n",
       "      <td>Russia</td>\n",
       "      <td>NaN</td>\n",
       "    </tr>\n",
       "    <tr>\n",
       "      <th>4</th>\n",
       "      <td>Odessa</td>\n",
       "      <td>False</td>\n",
       "      <td>1010783.0</td>\n",
       "      <td>Ukraine</td>\n",
       "      <td>NaN</td>\n",
       "    </tr>\n",
       "  </tbody>\n",
       "</table>\n",
       "</div>"
      ],
      "text/plain": [
       "        city is_capital  population  country       mayor\n",
       "0     Moscow       True  12380664.0   Russia    Sobyanin\n",
       "1   Helsinki       True    620982.0  Finland  Vapaavuori\n",
       "2    Arzamas      False         NaN   Russia     Slepcov\n",
       "3  Belomorsk      False      9861.0   Russia         NaN\n",
       "4     Odessa      False   1010783.0  Ukraine         NaN"
      ]
     },
     "execution_count": 27,
     "metadata": {},
     "output_type": "execute_result"
    }
   ],
   "source": [
    "pd.concat([df, df3[['mayor']]], axis=1)"
   ]
  },
  {
   "cell_type": "markdown",
   "metadata": {},
   "source": [
    "Она полезна в том случае, когда в таблицах полное соответствие строк (столбцов) по данной оси. Обратите внимание, что в качестве мэра Арзамаса в табличке выше указан Слепцов (мэр Ярославля). "
   ]
  },
  {
   "cell_type": "markdown",
   "metadata": {
    "collapsed": true
   },
   "source": [
    "### Индексация"
   ]
  },
  {
   "cell_type": "markdown",
   "metadata": {},
   "source": [
    "Чтобы воспользоваться столбцом как объектом типа Series, нужно обратиться к нему по имени через точку:"
   ]
  },
  {
   "cell_type": "code",
   "execution_count": 28,
   "metadata": {
    "collapsed": false
   },
   "outputs": [
    {
     "data": {
      "text/plain": [
       "0       Moscow\n",
       "1     Helsinki\n",
       "2      Arzamas\n",
       "3    Belomorsk\n",
       "4       Odessa\n",
       "Name: city, dtype: object"
      ]
     },
     "execution_count": 28,
     "metadata": {},
     "output_type": "execute_result"
    }
   ],
   "source": [
    "df.city"
   ]
  },
  {
   "cell_type": "markdown",
   "metadata": {},
   "source": [
    "Также можно представить его как отдельный DataFrame с помощью двойных квадратных скобочек:"
   ]
  },
  {
   "cell_type": "code",
   "execution_count": 29,
   "metadata": {
    "collapsed": false
   },
   "outputs": [
    {
     "data": {
      "text/html": [
       "<div>\n",
       "<table border=\"1\" class=\"dataframe\">\n",
       "  <thead>\n",
       "    <tr style=\"text-align: right;\">\n",
       "      <th></th>\n",
       "      <th>city</th>\n",
       "    </tr>\n",
       "  </thead>\n",
       "  <tbody>\n",
       "    <tr>\n",
       "      <th>0</th>\n",
       "      <td>Moscow</td>\n",
       "    </tr>\n",
       "    <tr>\n",
       "      <th>1</th>\n",
       "      <td>Helsinki</td>\n",
       "    </tr>\n",
       "    <tr>\n",
       "      <th>2</th>\n",
       "      <td>Arzamas</td>\n",
       "    </tr>\n",
       "    <tr>\n",
       "      <th>3</th>\n",
       "      <td>Belomorsk</td>\n",
       "    </tr>\n",
       "    <tr>\n",
       "      <th>4</th>\n",
       "      <td>Odessa</td>\n",
       "    </tr>\n",
       "  </tbody>\n",
       "</table>\n",
       "</div>"
      ],
      "text/plain": [
       "        city\n",
       "0     Moscow\n",
       "1   Helsinki\n",
       "2    Arzamas\n",
       "3  Belomorsk\n",
       "4     Odessa"
      ]
     },
     "execution_count": 29,
     "metadata": {},
     "output_type": "execute_result"
    }
   ],
   "source": [
    "df[['city']]"
   ]
  },
  {
   "cell_type": "markdown",
   "metadata": {},
   "source": [
    "Таким образом можно вывести DataFrame с произвольным количеством столбцов, просто перечислив их имена в списке:"
   ]
  },
  {
   "cell_type": "code",
   "execution_count": 30,
   "metadata": {
    "collapsed": false
   },
   "outputs": [
    {
     "data": {
      "text/html": [
       "<div>\n",
       "<table border=\"1\" class=\"dataframe\">\n",
       "  <thead>\n",
       "    <tr style=\"text-align: right;\">\n",
       "      <th></th>\n",
       "      <th>city</th>\n",
       "      <th>country</th>\n",
       "      <th>is_capital</th>\n",
       "    </tr>\n",
       "  </thead>\n",
       "  <tbody>\n",
       "    <tr>\n",
       "      <th>0</th>\n",
       "      <td>Moscow</td>\n",
       "      <td>Russia</td>\n",
       "      <td>True</td>\n",
       "    </tr>\n",
       "    <tr>\n",
       "      <th>1</th>\n",
       "      <td>Helsinki</td>\n",
       "      <td>Finland</td>\n",
       "      <td>True</td>\n",
       "    </tr>\n",
       "    <tr>\n",
       "      <th>2</th>\n",
       "      <td>Arzamas</td>\n",
       "      <td>Russia</td>\n",
       "      <td>False</td>\n",
       "    </tr>\n",
       "    <tr>\n",
       "      <th>3</th>\n",
       "      <td>Belomorsk</td>\n",
       "      <td>Russia</td>\n",
       "      <td>False</td>\n",
       "    </tr>\n",
       "    <tr>\n",
       "      <th>4</th>\n",
       "      <td>Odessa</td>\n",
       "      <td>Ukraine</td>\n",
       "      <td>False</td>\n",
       "    </tr>\n",
       "  </tbody>\n",
       "</table>\n",
       "</div>"
      ],
      "text/plain": [
       "        city  country is_capital\n",
       "0     Moscow   Russia       True\n",
       "1   Helsinki  Finland       True\n",
       "2    Arzamas   Russia      False\n",
       "3  Belomorsk   Russia      False\n",
       "4     Odessa  Ukraine      False"
      ]
     },
     "execution_count": 30,
     "metadata": {},
     "output_type": "execute_result"
    }
   ],
   "source": [
    "df[['city', 'country', 'is_capital']]"
   ]
  },
  {
   "cell_type": "markdown",
   "metadata": {},
   "source": [
    "Со строками работать не труднее. К ним нельзя обратиться по индексу, но можно брать срезы, как в обычных списках."
   ]
  },
  {
   "cell_type": "code",
   "execution_count": 31,
   "metadata": {
    "collapsed": false
   },
   "outputs": [
    {
     "data": {
      "text/html": [
       "<div>\n",
       "<table border=\"1\" class=\"dataframe\">\n",
       "  <thead>\n",
       "    <tr style=\"text-align: right;\">\n",
       "      <th></th>\n",
       "      <th>city</th>\n",
       "      <th>is_capital</th>\n",
       "      <th>population</th>\n",
       "      <th>country</th>\n",
       "    </tr>\n",
       "  </thead>\n",
       "  <tbody>\n",
       "    <tr>\n",
       "      <th>2</th>\n",
       "      <td>Arzamas</td>\n",
       "      <td>False</td>\n",
       "      <td>NaN</td>\n",
       "      <td>Russia</td>\n",
       "    </tr>\n",
       "    <tr>\n",
       "      <th>3</th>\n",
       "      <td>Belomorsk</td>\n",
       "      <td>False</td>\n",
       "      <td>9861.0</td>\n",
       "      <td>Russia</td>\n",
       "    </tr>\n",
       "  </tbody>\n",
       "</table>\n",
       "</div>"
      ],
      "text/plain": [
       "        city is_capital  population country\n",
       "2    Arzamas      False         NaN  Russia\n",
       "3  Belomorsk      False      9861.0  Russia"
      ]
     },
     "execution_count": 31,
     "metadata": {},
     "output_type": "execute_result"
    }
   ],
   "source": [
    "df[2:4]"
   ]
  },
  {
   "cell_type": "markdown",
   "metadata": {},
   "source": [
    "Для получения первых строк также существует метод **head**:"
   ]
  },
  {
   "cell_type": "code",
   "execution_count": 32,
   "metadata": {
    "collapsed": false
   },
   "outputs": [
    {
     "data": {
      "text/html": [
       "<div>\n",
       "<table border=\"1\" class=\"dataframe\">\n",
       "  <thead>\n",
       "    <tr style=\"text-align: right;\">\n",
       "      <th></th>\n",
       "      <th>city</th>\n",
       "      <th>is_capital</th>\n",
       "      <th>population</th>\n",
       "      <th>country</th>\n",
       "    </tr>\n",
       "  </thead>\n",
       "  <tbody>\n",
       "    <tr>\n",
       "      <th>0</th>\n",
       "      <td>Moscow</td>\n",
       "      <td>True</td>\n",
       "      <td>12380664.0</td>\n",
       "      <td>Russia</td>\n",
       "    </tr>\n",
       "    <tr>\n",
       "      <th>1</th>\n",
       "      <td>Helsinki</td>\n",
       "      <td>True</td>\n",
       "      <td>620982.0</td>\n",
       "      <td>Finland</td>\n",
       "    </tr>\n",
       "  </tbody>\n",
       "</table>\n",
       "</div>"
      ],
      "text/plain": [
       "       city is_capital  population  country\n",
       "0    Moscow       True  12380664.0   Russia\n",
       "1  Helsinki       True    620982.0  Finland"
      ]
     },
     "execution_count": 32,
     "metadata": {},
     "output_type": "execute_result"
    }
   ],
   "source": [
    "df.head(2)"
   ]
  },
  {
   "cell_type": "markdown",
   "metadata": {},
   "source": [
    "Чтобы выбрать какой-то произвольный список строк и столбцов, можно использовать один из двух методов: **loc** или **iloc**.\n",
    "\n",
    "Команда **loc** позволяет индексировать DataFrame с помощью обращения к названию осей. При этом *учитывается и начало, и конец среза*. "
   ]
  },
  {
   "cell_type": "code",
   "execution_count": 33,
   "metadata": {
    "collapsed": false
   },
   "outputs": [
    {
     "data": {
      "text/html": [
       "<div>\n",
       "<table border=\"1\" class=\"dataframe\">\n",
       "  <thead>\n",
       "    <tr style=\"text-align: right;\">\n",
       "      <th></th>\n",
       "      <th>city</th>\n",
       "      <th>is_capital</th>\n",
       "      <th>population</th>\n",
       "    </tr>\n",
       "  </thead>\n",
       "  <tbody>\n",
       "    <tr>\n",
       "      <th>1</th>\n",
       "      <td>Helsinki</td>\n",
       "      <td>True</td>\n",
       "      <td>620982.0</td>\n",
       "    </tr>\n",
       "    <tr>\n",
       "      <th>2</th>\n",
       "      <td>Arzamas</td>\n",
       "      <td>False</td>\n",
       "      <td>NaN</td>\n",
       "    </tr>\n",
       "    <tr>\n",
       "      <th>3</th>\n",
       "      <td>Belomorsk</td>\n",
       "      <td>False</td>\n",
       "      <td>9861.0</td>\n",
       "    </tr>\n",
       "  </tbody>\n",
       "</table>\n",
       "</div>"
      ],
      "text/plain": [
       "        city is_capital  population\n",
       "1   Helsinki       True    620982.0\n",
       "2    Arzamas      False         NaN\n",
       "3  Belomorsk      False      9861.0"
      ]
     },
     "execution_count": 33,
     "metadata": {},
     "output_type": "execute_result"
    }
   ],
   "source": [
    "df.loc[1:3, 'city':'population']"
   ]
  },
  {
   "cell_type": "markdown",
   "metadata": {},
   "source": [
    "Команда **iloc** принимает индексы начала и конца среза, и *конец среза не учитывается*. "
   ]
  },
  {
   "cell_type": "code",
   "execution_count": 34,
   "metadata": {
    "collapsed": false
   },
   "outputs": [
    {
     "data": {
      "text/html": [
       "<div>\n",
       "<table border=\"1\" class=\"dataframe\">\n",
       "  <thead>\n",
       "    <tr style=\"text-align: right;\">\n",
       "      <th></th>\n",
       "      <th>city</th>\n",
       "      <th>is_capital</th>\n",
       "    </tr>\n",
       "  </thead>\n",
       "  <tbody>\n",
       "    <tr>\n",
       "      <th>1</th>\n",
       "      <td>Helsinki</td>\n",
       "      <td>True</td>\n",
       "    </tr>\n",
       "    <tr>\n",
       "      <th>2</th>\n",
       "      <td>Arzamas</td>\n",
       "      <td>False</td>\n",
       "    </tr>\n",
       "  </tbody>\n",
       "</table>\n",
       "</div>"
      ],
      "text/plain": [
       "       city is_capital\n",
       "1  Helsinki       True\n",
       "2   Arzamas      False"
      ]
     },
     "execution_count": 34,
     "metadata": {},
     "output_type": "execute_result"
    }
   ],
   "source": [
    "df.iloc[1:3, 0:2]"
   ]
  },
  {
   "cell_type": "markdown",
   "metadata": {},
   "source": [
    "Этим методам можно подавать на вход не только срезы, но и списки нужных названий или индексов:"
   ]
  },
  {
   "cell_type": "code",
   "execution_count": 35,
   "metadata": {
    "collapsed": false,
    "scrolled": true
   },
   "outputs": [
    {
     "data": {
      "text/html": [
       "<div>\n",
       "<table border=\"1\" class=\"dataframe\">\n",
       "  <thead>\n",
       "    <tr style=\"text-align: right;\">\n",
       "      <th></th>\n",
       "      <th>city</th>\n",
       "      <th>is_capital</th>\n",
       "      <th>country</th>\n",
       "    </tr>\n",
       "  </thead>\n",
       "  <tbody>\n",
       "    <tr>\n",
       "      <th>0</th>\n",
       "      <td>Moscow</td>\n",
       "      <td>True</td>\n",
       "      <td>Russia</td>\n",
       "    </tr>\n",
       "    <tr>\n",
       "      <th>2</th>\n",
       "      <td>Arzamas</td>\n",
       "      <td>False</td>\n",
       "      <td>Russia</td>\n",
       "    </tr>\n",
       "    <tr>\n",
       "      <th>4</th>\n",
       "      <td>Odessa</td>\n",
       "      <td>False</td>\n",
       "      <td>Ukraine</td>\n",
       "    </tr>\n",
       "  </tbody>\n",
       "</table>\n",
       "</div>"
      ],
      "text/plain": [
       "      city is_capital  country\n",
       "0   Moscow       True   Russia\n",
       "2  Arzamas      False   Russia\n",
       "4   Odessa      False  Ukraine"
      ]
     },
     "execution_count": 35,
     "metadata": {},
     "output_type": "execute_result"
    }
   ],
   "source": [
    "df.loc[[0, 2, 4], ['city', 'is_capital', 'country']]"
   ]
  },
  {
   "cell_type": "markdown",
   "metadata": {},
   "source": [
    "### Применение функций к ячейкам, столбцам и строкам"
   ]
  },
  {
   "cell_type": "markdown",
   "metadata": {},
   "source": [
    "Pandas позволяет применять функции к столбцу с помощью метода **apply**:"
   ]
  },
  {
   "cell_type": "code",
   "execution_count": 36,
   "metadata": {
    "collapsed": false
   },
   "outputs": [
    {
     "data": {
      "text/html": [
       "<div>\n",
       "<table border=\"1\" class=\"dataframe\">\n",
       "  <thead>\n",
       "    <tr style=\"text-align: right;\">\n",
       "      <th></th>\n",
       "      <th>population</th>\n",
       "    </tr>\n",
       "  </thead>\n",
       "  <tbody>\n",
       "    <tr>\n",
       "      <th>0</th>\n",
       "      <td>6190332.0</td>\n",
       "    </tr>\n",
       "    <tr>\n",
       "      <th>1</th>\n",
       "      <td>310491.0</td>\n",
       "    </tr>\n",
       "    <tr>\n",
       "      <th>2</th>\n",
       "      <td>NaN</td>\n",
       "    </tr>\n",
       "    <tr>\n",
       "      <th>3</th>\n",
       "      <td>4930.0</td>\n",
       "    </tr>\n",
       "    <tr>\n",
       "      <th>4</th>\n",
       "      <td>505391.0</td>\n",
       "    </tr>\n",
       "  </tbody>\n",
       "</table>\n",
       "</div>"
      ],
      "text/plain": [
       "   population\n",
       "0   6190332.0\n",
       "1    310491.0\n",
       "2         NaN\n",
       "3      4930.0\n",
       "4    505391.0"
      ]
     },
     "execution_count": 36,
     "metadata": {},
     "output_type": "execute_result"
    }
   ],
   "source": [
    "df[['population']].apply(lambda x : x // 2) # Уменьшим численность населения в два раза"
   ]
  },
  {
   "cell_type": "code",
   "execution_count": 37,
   "metadata": {
    "collapsed": false
   },
   "outputs": [
    {
     "data": {
      "text/plain": [
       "city               Odessa\n",
       "is_capital           True\n",
       "population    1.23807e+07\n",
       "country           Ukraine\n",
       "dtype: object"
      ]
     },
     "execution_count": 37,
     "metadata": {},
     "output_type": "execute_result"
    }
   ],
   "source": [
    "df.apply(max) # Найдем максимум для каждого столбца"
   ]
  },
  {
   "cell_type": "markdown",
   "metadata": {},
   "source": [
    "То же самое можно делать и со строками, указав атрибут **axis**=1.\n",
    "\n",
    "Метод **map** можно использовать, чтобы применить функцию к каждой ячейке столбца. Например, с помощью map и словаря можно изменить значения:"
   ]
  },
  {
   "cell_type": "code",
   "execution_count": 38,
   "metadata": {
    "collapsed": false
   },
   "outputs": [
    {
     "name": "stdout",
     "output_type": "stream",
     "text": [
      "0     True\n",
      "1     True\n",
      "2    False\n",
      "3    False\n",
      "4    False\n",
      "Name: is_capital, dtype: bool\n"
     ]
    },
    {
     "data": {
      "text/plain": [
       "0    Yes\n",
       "1    Yes\n",
       "2     No\n",
       "3     No\n",
       "4     No\n",
       "Name: is_capital, dtype: object"
      ]
     },
     "execution_count": 38,
     "metadata": {},
     "output_type": "execute_result"
    }
   ],
   "source": [
    "print(df.is_capital)\n",
    "d = {True : 'Yes', False : 'No'}\n",
    "df['is_capital'].map(d) # Изменим булевы значения на соответствующие строки в столбце is_capital"
   ]
  },
  {
   "cell_type": "markdown",
   "metadata": {},
   "source": [
    "Заполнить пустые ячейки может метод **fillna**:"
   ]
  },
  {
   "cell_type": "code",
   "execution_count": 39,
   "metadata": {
    "collapsed": false
   },
   "outputs": [
    {
     "data": {
      "text/html": [
       "<div>\n",
       "<table border=\"1\" class=\"dataframe\">\n",
       "  <thead>\n",
       "    <tr style=\"text-align: right;\">\n",
       "      <th></th>\n",
       "      <th>city</th>\n",
       "      <th>is_capital</th>\n",
       "      <th>population</th>\n",
       "      <th>country</th>\n",
       "    </tr>\n",
       "  </thead>\n",
       "  <tbody>\n",
       "    <tr>\n",
       "      <th>0</th>\n",
       "      <td>Moscow</td>\n",
       "      <td>True</td>\n",
       "      <td>12380664.0</td>\n",
       "      <td>Russia</td>\n",
       "    </tr>\n",
       "    <tr>\n",
       "      <th>1</th>\n",
       "      <td>Helsinki</td>\n",
       "      <td>True</td>\n",
       "      <td>620982.0</td>\n",
       "      <td>Finland</td>\n",
       "    </tr>\n",
       "    <tr>\n",
       "      <th>2</th>\n",
       "      <td>Arzamas</td>\n",
       "      <td>False</td>\n",
       "      <td>0.0</td>\n",
       "      <td>Russia</td>\n",
       "    </tr>\n",
       "    <tr>\n",
       "      <th>3</th>\n",
       "      <td>Belomorsk</td>\n",
       "      <td>False</td>\n",
       "      <td>9861.0</td>\n",
       "      <td>Russia</td>\n",
       "    </tr>\n",
       "    <tr>\n",
       "      <th>4</th>\n",
       "      <td>Odessa</td>\n",
       "      <td>False</td>\n",
       "      <td>1010783.0</td>\n",
       "      <td>Ukraine</td>\n",
       "    </tr>\n",
       "  </tbody>\n",
       "</table>\n",
       "</div>"
      ],
      "text/plain": [
       "        city is_capital  population  country\n",
       "0     Moscow       True  12380664.0   Russia\n",
       "1   Helsinki       True    620982.0  Finland\n",
       "2    Arzamas      False         0.0   Russia\n",
       "3  Belomorsk      False      9861.0   Russia\n",
       "4     Odessa      False   1010783.0  Ukraine"
      ]
     },
     "execution_count": 39,
     "metadata": {},
     "output_type": "execute_result"
    }
   ],
   "source": [
    "df.fillna(0)"
   ]
  },
  {
   "cell_type": "markdown",
   "metadata": {},
   "source": [
    "### Фильтрация и селекция"
   ]
  },
  {
   "cell_type": "markdown",
   "metadata": {},
   "source": [
    "Pandas позволяет фильтровать данные в таблице с помощью логических операторов (&, |, ==, != и так далее). Для этого следует выбрать нужную часть таблицы и применить к ней логическое выражение. Например, вычислим количество городов, население которых превышает 10 000."
   ]
  },
  {
   "cell_type": "code",
   "execution_count": 40,
   "metadata": {
    "collapsed": false
   },
   "outputs": [
    {
     "name": "stdout",
     "output_type": "stream",
     "text": [
      "3\n"
     ]
    }
   ],
   "source": [
    "print(len(df[df.population > 1e4])) # Выбираем столбец с населением, сравниваем с 10000,\n",
    "                                    # выбираем строки, где это правда, и считаем их количество"
   ]
  },
  {
   "cell_type": "markdown",
   "metadata": {},
   "source": [
    "Или, например, в данной таблице можно отфильтровать данные, оставив информацию только про города, не являющиеся столицами. Для этого нужно в квадратных скобках написать соответствующее логическое выражение. "
   ]
  },
  {
   "cell_type": "code",
   "execution_count": 41,
   "metadata": {
    "collapsed": false
   },
   "outputs": [
    {
     "data": {
      "text/html": [
       "<div>\n",
       "<table border=\"1\" class=\"dataframe\">\n",
       "  <thead>\n",
       "    <tr style=\"text-align: right;\">\n",
       "      <th></th>\n",
       "      <th>city</th>\n",
       "      <th>is_capital</th>\n",
       "      <th>population</th>\n",
       "      <th>country</th>\n",
       "    </tr>\n",
       "  </thead>\n",
       "  <tbody>\n",
       "    <tr>\n",
       "      <th>2</th>\n",
       "      <td>Arzamas</td>\n",
       "      <td>False</td>\n",
       "      <td>NaN</td>\n",
       "      <td>Russia</td>\n",
       "    </tr>\n",
       "    <tr>\n",
       "      <th>3</th>\n",
       "      <td>Belomorsk</td>\n",
       "      <td>False</td>\n",
       "      <td>9861.0</td>\n",
       "      <td>Russia</td>\n",
       "    </tr>\n",
       "    <tr>\n",
       "      <th>4</th>\n",
       "      <td>Odessa</td>\n",
       "      <td>False</td>\n",
       "      <td>1010783.0</td>\n",
       "      <td>Ukraine</td>\n",
       "    </tr>\n",
       "  </tbody>\n",
       "</table>\n",
       "</div>"
      ],
      "text/plain": [
       "        city is_capital  population  country\n",
       "2    Arzamas      False         NaN   Russia\n",
       "3  Belomorsk      False      9861.0   Russia\n",
       "4     Odessa      False   1010783.0  Ukraine"
      ]
     },
     "execution_count": 41,
     "metadata": {},
     "output_type": "execute_result"
    }
   ],
   "source": [
    "df[df.is_capital == False]"
   ]
  },
  {
   "cell_type": "markdown",
   "metadata": {},
   "source": [
    "Выражение можно усложнить, выбрав, например, все российские города, не являющиеся столицами."
   ]
  },
  {
   "cell_type": "code",
   "execution_count": 42,
   "metadata": {
    "collapsed": false
   },
   "outputs": [
    {
     "data": {
      "text/html": [
       "<div>\n",
       "<table border=\"1\" class=\"dataframe\">\n",
       "  <thead>\n",
       "    <tr style=\"text-align: right;\">\n",
       "      <th></th>\n",
       "      <th>city</th>\n",
       "      <th>is_capital</th>\n",
       "      <th>population</th>\n",
       "      <th>country</th>\n",
       "    </tr>\n",
       "  </thead>\n",
       "  <tbody>\n",
       "    <tr>\n",
       "      <th>2</th>\n",
       "      <td>Arzamas</td>\n",
       "      <td>False</td>\n",
       "      <td>NaN</td>\n",
       "      <td>Russia</td>\n",
       "    </tr>\n",
       "    <tr>\n",
       "      <th>3</th>\n",
       "      <td>Belomorsk</td>\n",
       "      <td>False</td>\n",
       "      <td>9861.0</td>\n",
       "      <td>Russia</td>\n",
       "    </tr>\n",
       "  </tbody>\n",
       "</table>\n",
       "</div>"
      ],
      "text/plain": [
       "        city is_capital  population country\n",
       "2    Arzamas      False         NaN  Russia\n",
       "3  Belomorsk      False      9861.0  Russia"
      ]
     },
     "execution_count": 42,
     "metadata": {},
     "output_type": "execute_result"
    }
   ],
   "source": [
    "df[(df.is_capital == False) & (df.country == 'Russia')]"
   ]
  },
  {
   "cell_type": "markdown",
   "metadata": {},
   "source": [
    "### Группировка"
   ]
  },
  {
   "cell_type": "markdown",
   "metadata": {},
   "source": [
    "Pandas позволяет группировать данные с помощью метода **groupby**, принимающего на вход имя признака и возвращающая  объект **DataFrameGroupBy**, в котором хранятся сведения о группировке данных."
   ]
  },
  {
   "cell_type": "code",
   "execution_count": 43,
   "metadata": {
    "collapsed": false
   },
   "outputs": [
    {
     "data": {
      "text/plain": [
       "<pandas.core.groupby.DataFrameGroupBy object at 0x07523EF0>"
      ]
     },
     "execution_count": 43,
     "metadata": {},
     "output_type": "execute_result"
    }
   ],
   "source": [
    "df.groupby('country')"
   ]
  },
  {
   "cell_type": "markdown",
   "metadata": {},
   "source": [
    "В этом объекте можно выбрать интересующие столбцы по названию (но можно и не выбирать) и применить ряд функций, позволяющих проанализировать сведения о каждой группе. Вот часть таких функций:\n",
    "\n",
    "![alternate text](https://pp.userapi.com/c841632/v841632172/150fd/DtGqi1-LYig.jpg)"
   ]
  },
  {
   "cell_type": "markdown",
   "metadata": {},
   "source": [
    "Также можно посмотреть количество различных значений поля, по которому происходит группировка, с помощью функции **size**:"
   ]
  },
  {
   "cell_type": "code",
   "execution_count": 44,
   "metadata": {
    "collapsed": false
   },
   "outputs": [
    {
     "data": {
      "text/plain": [
       "country\n",
       "Finland    1\n",
       "Russia     3\n",
       "Ukraine    1\n",
       "dtype: int64"
      ]
     },
     "execution_count": 44,
     "metadata": {},
     "output_type": "execute_result"
    }
   ],
   "source": [
    "df.groupby('country').size()"
   ]
  },
  {
   "cell_type": "markdown",
   "metadata": {},
   "source": [
    "Как пример, рассчитаем суммарное население в каждой стране, представленной в таблице:"
   ]
  },
  {
   "cell_type": "code",
   "execution_count": 45,
   "metadata": {
    "collapsed": false
   },
   "outputs": [
    {
     "data": {
      "text/plain": [
       "country\n",
       "Finland      620982.0\n",
       "Russia     12390525.0\n",
       "Ukraine     1010783.0\n",
       "Name: population, dtype: float64"
      ]
     },
     "execution_count": 45,
     "metadata": {},
     "output_type": "execute_result"
    }
   ],
   "source": [
    "df.groupby('country')['population'].sum()"
   ]
  },
  {
   "cell_type": "markdown",
   "metadata": {},
   "source": [
    "Функция **get_group** дает возможность посмотреть все ячейки конкретной группы по набору столбцов."
   ]
  },
  {
   "cell_type": "code",
   "execution_count": 46,
   "metadata": {
    "collapsed": false
   },
   "outputs": [
    {
     "data": {
      "text/html": [
       "<div>\n",
       "<table border=\"1\" class=\"dataframe\">\n",
       "  <thead>\n",
       "    <tr style=\"text-align: right;\">\n",
       "      <th></th>\n",
       "      <th>city</th>\n",
       "      <th>is_capital</th>\n",
       "    </tr>\n",
       "  </thead>\n",
       "  <tbody>\n",
       "    <tr>\n",
       "      <th>0</th>\n",
       "      <td>Moscow</td>\n",
       "      <td>True</td>\n",
       "    </tr>\n",
       "    <tr>\n",
       "      <th>2</th>\n",
       "      <td>Arzamas</td>\n",
       "      <td>False</td>\n",
       "    </tr>\n",
       "    <tr>\n",
       "      <th>3</th>\n",
       "      <td>Belomorsk</td>\n",
       "      <td>False</td>\n",
       "    </tr>\n",
       "  </tbody>\n",
       "</table>\n",
       "</div>"
      ],
      "text/plain": [
       "        city is_capital\n",
       "0     Moscow       True\n",
       "2    Arzamas      False\n",
       "3  Belomorsk      False"
      ]
     },
     "execution_count": 46,
     "metadata": {},
     "output_type": "execute_result"
    }
   ],
   "source": [
    "df.groupby(['country'])[['city', 'is_capital']].get_group('Russia')"
   ]
  },
  {
   "cell_type": "markdown",
   "metadata": {},
   "source": [
    "### Сводные таблицы"
   ]
  },
  {
   "cell_type": "markdown",
   "metadata": {
    "collapsed": true
   },
   "source": [
    "Сводные таблицы помогают обобщать численные данные. Они могут автоматически сортировать и подсчитывать данные, а также вычислять общее или среднее значение в одной таблице. \n",
    "\n",
    "В Pandas для этого существует функция **pivot_table**, принимающая на вход список столбцов, по которым будет считаться агрегированные значения, и список столбцов, которые будут строками итоговой таблицы. Атрибут **aggfunc** задает функцию, которая используется для агрегации, а **fill_value** - параметр для замены пустых значений на 0."
   ]
  },
  {
   "cell_type": "code",
   "execution_count": 54,
   "metadata": {
    "collapsed": false
   },
   "outputs": [
    {
     "data": {
      "text/html": [
       "<div>\n",
       "<table border=\"1\" class=\"dataframe\">\n",
       "  <thead>\n",
       "    <tr style=\"text-align: right;\">\n",
       "      <th></th>\n",
       "      <th>city</th>\n",
       "      <th>is_capital</th>\n",
       "      <th>population</th>\n",
       "      <th>country</th>\n",
       "      <th>living_wage</th>\n",
       "    </tr>\n",
       "  </thead>\n",
       "  <tbody>\n",
       "    <tr>\n",
       "      <th>0</th>\n",
       "      <td>Moscow</td>\n",
       "      <td>True</td>\n",
       "      <td>12380664.0</td>\n",
       "      <td>Russia</td>\n",
       "      <td>15307</td>\n",
       "    </tr>\n",
       "    <tr>\n",
       "      <th>1</th>\n",
       "      <td>Helsinki</td>\n",
       "      <td>True</td>\n",
       "      <td>620982.0</td>\n",
       "      <td>Finland</td>\n",
       "      <td>84925</td>\n",
       "    </tr>\n",
       "    <tr>\n",
       "      <th>2</th>\n",
       "      <td>Arzamas</td>\n",
       "      <td>False</td>\n",
       "      <td>NaN</td>\n",
       "      <td>Russia</td>\n",
       "      <td>8082</td>\n",
       "    </tr>\n",
       "    <tr>\n",
       "      <th>3</th>\n",
       "      <td>Belomorsk</td>\n",
       "      <td>False</td>\n",
       "      <td>9861.0</td>\n",
       "      <td>Russia</td>\n",
       "      <td>13730</td>\n",
       "    </tr>\n",
       "    <tr>\n",
       "      <th>4</th>\n",
       "      <td>Odessa</td>\n",
       "      <td>False</td>\n",
       "      <td>1010783.0</td>\n",
       "      <td>Ukraine</td>\n",
       "      <td>3958</td>\n",
       "    </tr>\n",
       "  </tbody>\n",
       "</table>\n",
       "</div>"
      ],
      "text/plain": [
       "        city is_capital  population  country  living_wage\n",
       "0     Moscow       True  12380664.0   Russia        15307\n",
       "1   Helsinki       True    620982.0  Finland        84925\n",
       "2    Arzamas      False         NaN   Russia         8082\n",
       "3  Belomorsk      False      9861.0   Russia        13730\n",
       "4     Odessa      False   1010783.0  Ukraine         3958"
      ]
     },
     "execution_count": 54,
     "metadata": {},
     "output_type": "execute_result"
    }
   ],
   "source": [
    "df['living_wage'] = [15307, 84925, 8082, 13730, 3958] # Добавим к таблице еще один столбец\n",
    "df"
   ]
  },
  {
   "cell_type": "code",
   "execution_count": 55,
   "metadata": {
    "collapsed": false,
    "scrolled": true
   },
   "outputs": [
    {
     "data": {
      "text/html": [
       "<div>\n",
       "<table border=\"1\" class=\"dataframe\">\n",
       "  <thead>\n",
       "    <tr style=\"text-align: right;\">\n",
       "      <th></th>\n",
       "      <th>living_wage</th>\n",
       "      <th>population</th>\n",
       "    </tr>\n",
       "    <tr>\n",
       "      <th>country</th>\n",
       "      <th></th>\n",
       "      <th></th>\n",
       "    </tr>\n",
       "  </thead>\n",
       "  <tbody>\n",
       "    <tr>\n",
       "      <th>Finland</th>\n",
       "      <td>84925</td>\n",
       "      <td>620982</td>\n",
       "    </tr>\n",
       "    <tr>\n",
       "      <th>Russia</th>\n",
       "      <td>12373</td>\n",
       "      <td>6195262</td>\n",
       "    </tr>\n",
       "    <tr>\n",
       "      <th>Ukraine</th>\n",
       "      <td>3958</td>\n",
       "      <td>1010783</td>\n",
       "    </tr>\n",
       "  </tbody>\n",
       "</table>\n",
       "</div>"
      ],
      "text/plain": [
       "         living_wage  population\n",
       "country                         \n",
       "Finland        84925      620982\n",
       "Russia         12373     6195262\n",
       "Ukraine         3958     1010783"
      ]
     },
     "execution_count": 55,
     "metadata": {},
     "output_type": "execute_result"
    }
   ],
   "source": [
    "df.pivot_table(['population', 'living_wage'], ['country'], aggfunc='mean', fill_value=0) #Посчитаем средние значения \n",
    "# прожиточного минимума и численности населения для разных стран, все пустые ячейки заполним 0"
   ]
  },
  {
   "cell_type": "markdown",
   "metadata": {},
   "source": [
    "# Пример"
   ]
  },
  {
   "cell_type": "markdown",
   "metadata": {
    "collapsed": true
   },
   "source": [
    "Есть две таблички. В первой (data.csv) лежит информация о количестве бюджетных и платных мест по разным специальностям двух факультетов. Во второй (cost.csv) -- информация о стоимости обучения на всех направлениях подготовки ВШЭ. Посчитаем количество денег, полученных за обучение на платной основе по каждому из представленных факультетов. "
   ]
  },
  {
   "cell_type": "code",
   "execution_count": 102,
   "metadata": {
    "collapsed": false
   },
   "outputs": [
    {
     "data": {
      "text/html": [
       "<div>\n",
       "<table border=\"1\" class=\"dataframe\">\n",
       "  <thead>\n",
       "    <tr style=\"text-align: right;\">\n",
       "      <th></th>\n",
       "      <th>Направление подготовки</th>\n",
       "      <th>Бюджетные места</th>\n",
       "      <th>Квота</th>\n",
       "      <th>Целевая квота</th>\n",
       "      <th>Платные места</th>\n",
       "      <th>Платные места для иностранцев</th>\n",
       "      <th>Факультет</th>\n",
       "    </tr>\n",
       "  </thead>\n",
       "  <tbody>\n",
       "    <tr>\n",
       "      <th>0</th>\n",
       "      <td>Реклама и связи с общественностью</td>\n",
       "      <td>35</td>\n",
       "      <td>4</td>\n",
       "      <td>1</td>\n",
       "      <td>300</td>\n",
       "      <td>10</td>\n",
       "      <td>Факультет коммуникаций, медиа и дизайна</td>\n",
       "    </tr>\n",
       "    <tr>\n",
       "      <th>1</th>\n",
       "      <td>Журналистика</td>\n",
       "      <td>40</td>\n",
       "      <td>4</td>\n",
       "      <td></td>\n",
       "      <td>70</td>\n",
       "      <td>10</td>\n",
       "      <td>Факультет коммуникаций, медиа и дизайна</td>\n",
       "    </tr>\n",
       "    <tr>\n",
       "      <th>2</th>\n",
       "      <td>Медиакоммуникации</td>\n",
       "      <td>30</td>\n",
       "      <td>3</td>\n",
       "      <td></td>\n",
       "      <td>120</td>\n",
       "      <td>10</td>\n",
       "      <td>Факультет коммуникаций, медиа и дизайна</td>\n",
       "    </tr>\n",
       "    <tr>\n",
       "      <th>3</th>\n",
       "      <td>Филология</td>\n",
       "      <td>33</td>\n",
       "      <td>3</td>\n",
       "      <td></td>\n",
       "      <td>80</td>\n",
       "      <td>5</td>\n",
       "      <td>Факультет гуманитарных наук</td>\n",
       "    </tr>\n",
       "    <tr>\n",
       "      <th>4</th>\n",
       "      <td>Фундаментальная и компьютерная лингвистика</td>\n",
       "      <td>37</td>\n",
       "      <td>4</td>\n",
       "      <td></td>\n",
       "      <td>50</td>\n",
       "      <td>5</td>\n",
       "      <td>Факультет гуманитарных наук</td>\n",
       "    </tr>\n",
       "    <tr>\n",
       "      <th>5</th>\n",
       "      <td>История</td>\n",
       "      <td>60</td>\n",
       "      <td>6</td>\n",
       "      <td></td>\n",
       "      <td>30</td>\n",
       "      <td>5</td>\n",
       "      <td>Факультет гуманитарных наук</td>\n",
       "    </tr>\n",
       "    <tr>\n",
       "      <th>6</th>\n",
       "      <td>Философия</td>\n",
       "      <td>45</td>\n",
       "      <td>5</td>\n",
       "      <td></td>\n",
       "      <td>20</td>\n",
       "      <td>5</td>\n",
       "      <td>Факультет гуманитарных наук</td>\n",
       "    </tr>\n",
       "    <tr>\n",
       "      <th>7</th>\n",
       "      <td>История искусств</td>\n",
       "      <td>25</td>\n",
       "      <td>3</td>\n",
       "      <td></td>\n",
       "      <td>30</td>\n",
       "      <td>5</td>\n",
       "      <td>Факультет гуманитарных наук</td>\n",
       "    </tr>\n",
       "    <tr>\n",
       "      <th>8</th>\n",
       "      <td>Культурология</td>\n",
       "      <td>30</td>\n",
       "      <td>3</td>\n",
       "      <td></td>\n",
       "      <td>30</td>\n",
       "      <td>5</td>\n",
       "      <td>Факультет гуманитарных наук</td>\n",
       "    </tr>\n",
       "    <tr>\n",
       "      <th>9</th>\n",
       "      <td>Дизайн</td>\n",
       "      <td>55</td>\n",
       "      <td>6</td>\n",
       "      <td></td>\n",
       "      <td>300</td>\n",
       "      <td>10</td>\n",
       "      <td>Факультет коммуникаций, медиа и дизайна</td>\n",
       "    </tr>\n",
       "    <tr>\n",
       "      <th>10</th>\n",
       "      <td>Мода</td>\n",
       "      <td></td>\n",
       "      <td></td>\n",
       "      <td></td>\n",
       "      <td>50</td>\n",
       "      <td>10</td>\n",
       "      <td>Факультет коммуникаций, медиа и дизайна</td>\n",
       "    </tr>\n",
       "  </tbody>\n",
       "</table>\n",
       "</div>"
      ],
      "text/plain": [
       "                        Направление подготовки Бюджетные места Квота  \\\n",
       "0            Реклама и связи с общественностью              35     4   \n",
       "1                                 Журналистика              40     4   \n",
       "2                            Медиакоммуникации              30     3   \n",
       "3                                    Филология              33     3   \n",
       "4   Фундаментальная и компьютерная лингвистика              37     4   \n",
       "5                                      История              60     6   \n",
       "6                                    Философия              45     5   \n",
       "7                             История искусств              25     3   \n",
       "8                                Культурология              30     3   \n",
       "9                                       Дизайн              55     6   \n",
       "10                                        Мода                         \n",
       "\n",
       "   Целевая квота Платные места Платные места для иностранцев  \\\n",
       "0             1            300                            10   \n",
       "1                           70                            10   \n",
       "2                          120                            10   \n",
       "3                           80                             5   \n",
       "4                           50                             5   \n",
       "5                           30                            5    \n",
       "6                           20                            5    \n",
       "7                           30                            5    \n",
       "8                           30                             5   \n",
       "9                          300                            10   \n",
       "10                          50                            10   \n",
       "\n",
       "                                  Факультет  \n",
       "0   Факультет коммуникаций, медиа и дизайна  \n",
       "1   Факультет коммуникаций, медиа и дизайна  \n",
       "2   Факультет коммуникаций, медиа и дизайна  \n",
       "3               Факультет гуманитарных наук  \n",
       "4               Факультет гуманитарных наук  \n",
       "5               Факультет гуманитарных наук  \n",
       "6               Факультет гуманитарных наук  \n",
       "7               Факультет гуманитарных наук  \n",
       "8               Факультет гуманитарных наук  \n",
       "9   Факультет коммуникаций, медиа и дизайна  \n",
       "10  Факультет коммуникаций, медиа и дизайна  "
      ]
     },
     "execution_count": 102,
     "metadata": {},
     "output_type": "execute_result"
    }
   ],
   "source": [
    "data = pd.read_csv(\"data.csv\", sep=',', header=0) # Считаем файлы\n",
    "data"
   ]
  },
  {
   "cell_type": "code",
   "execution_count": 103,
   "metadata": {
    "collapsed": false
   },
   "outputs": [
    {
     "data": {
      "text/html": [
       "<div>\n",
       "<table border=\"1\" class=\"dataframe\">\n",
       "  <thead>\n",
       "    <tr style=\"text-align: right;\">\n",
       "      <th></th>\n",
       "      <th>Направление подготовки</th>\n",
       "      <th>Стоимость обучения</th>\n",
       "    </tr>\n",
       "  </thead>\n",
       "  <tbody>\n",
       "    <tr>\n",
       "      <th>0</th>\n",
       "      <td>Математика</td>\n",
       "      <td>320</td>\n",
       "    </tr>\n",
       "    <tr>\n",
       "      <th>1</th>\n",
       "      <td>Совместный бакалавриат НИУ ВШЭ и Центра педаго...</td>\n",
       "      <td>260</td>\n",
       "    </tr>\n",
       "    <tr>\n",
       "      <th>2</th>\n",
       "      <td>Прикладная математика и информатика</td>\n",
       "      <td>350</td>\n",
       "    </tr>\n",
       "    <tr>\n",
       "      <th>3</th>\n",
       "      <td>Прикладная математика</td>\n",
       "      <td>260</td>\n",
       "    </tr>\n",
       "    <tr>\n",
       "      <th>4</th>\n",
       "      <td>Физика</td>\n",
       "      <td>320</td>\n",
       "    </tr>\n",
       "  </tbody>\n",
       "</table>\n",
       "</div>"
      ],
      "text/plain": [
       "                              Направление подготовки  Стоимость обучения\n",
       "0                                         Математика                 320\n",
       "1  Совместный бакалавриат НИУ ВШЭ и Центра педаго...                 260\n",
       "2                Прикладная математика и информатика                 350\n",
       "3                              Прикладная математика                 260\n",
       "4                                             Физика                 320"
      ]
     },
     "execution_count": 103,
     "metadata": {},
     "output_type": "execute_result"
    }
   ],
   "source": [
    "cost = pd.read_csv(\"cost.csv\", sep=',', header=0)\n",
    "cost.head() # Посмотрим на первые пять строк"
   ]
  },
  {
   "cell_type": "markdown",
   "metadata": {},
   "source": [
    "Совместим таблички, добавив в первую столбец со стоимостью на соответсвующих направлениях:"
   ]
  },
  {
   "cell_type": "code",
   "execution_count": 104,
   "metadata": {
    "collapsed": false,
    "scrolled": true
   },
   "outputs": [
    {
     "data": {
      "text/html": [
       "<div>\n",
       "<table border=\"1\" class=\"dataframe\">\n",
       "  <thead>\n",
       "    <tr style=\"text-align: right;\">\n",
       "      <th></th>\n",
       "      <th>Направление подготовки</th>\n",
       "      <th>Бюджетные места</th>\n",
       "      <th>Квота</th>\n",
       "      <th>Целевая квота</th>\n",
       "      <th>Платные места</th>\n",
       "      <th>Платные места для иностранцев</th>\n",
       "      <th>Факультет</th>\n",
       "      <th>Стоимость обучения</th>\n",
       "    </tr>\n",
       "  </thead>\n",
       "  <tbody>\n",
       "    <tr>\n",
       "      <th>0</th>\n",
       "      <td>Реклама и связи с общественностью</td>\n",
       "      <td>35</td>\n",
       "      <td>4</td>\n",
       "      <td>1</td>\n",
       "      <td>300</td>\n",
       "      <td>10</td>\n",
       "      <td>Факультет коммуникаций, медиа и дизайна</td>\n",
       "      <td>370</td>\n",
       "    </tr>\n",
       "    <tr>\n",
       "      <th>1</th>\n",
       "      <td>Журналистика</td>\n",
       "      <td>40</td>\n",
       "      <td>4</td>\n",
       "      <td></td>\n",
       "      <td>70</td>\n",
       "      <td>10</td>\n",
       "      <td>Факультет коммуникаций, медиа и дизайна</td>\n",
       "      <td>300</td>\n",
       "    </tr>\n",
       "    <tr>\n",
       "      <th>2</th>\n",
       "      <td>Медиакоммуникации</td>\n",
       "      <td>30</td>\n",
       "      <td>3</td>\n",
       "      <td></td>\n",
       "      <td>120</td>\n",
       "      <td>10</td>\n",
       "      <td>Факультет коммуникаций, медиа и дизайна</td>\n",
       "      <td>300</td>\n",
       "    </tr>\n",
       "    <tr>\n",
       "      <th>3</th>\n",
       "      <td>Филология</td>\n",
       "      <td>33</td>\n",
       "      <td>3</td>\n",
       "      <td></td>\n",
       "      <td>80</td>\n",
       "      <td>5</td>\n",
       "      <td>Факультет гуманитарных наук</td>\n",
       "      <td>300</td>\n",
       "    </tr>\n",
       "    <tr>\n",
       "      <th>4</th>\n",
       "      <td>Фундаментальная и компьютерная лингвистика</td>\n",
       "      <td>37</td>\n",
       "      <td>4</td>\n",
       "      <td></td>\n",
       "      <td>50</td>\n",
       "      <td>5</td>\n",
       "      <td>Факультет гуманитарных наук</td>\n",
       "      <td>300</td>\n",
       "    </tr>\n",
       "    <tr>\n",
       "      <th>5</th>\n",
       "      <td>История</td>\n",
       "      <td>60</td>\n",
       "      <td>6</td>\n",
       "      <td></td>\n",
       "      <td>30</td>\n",
       "      <td>5</td>\n",
       "      <td>Факультет гуманитарных наук</td>\n",
       "      <td>260</td>\n",
       "    </tr>\n",
       "    <tr>\n",
       "      <th>6</th>\n",
       "      <td>Философия</td>\n",
       "      <td>45</td>\n",
       "      <td>5</td>\n",
       "      <td></td>\n",
       "      <td>20</td>\n",
       "      <td>5</td>\n",
       "      <td>Факультет гуманитарных наук</td>\n",
       "      <td>260</td>\n",
       "    </tr>\n",
       "    <tr>\n",
       "      <th>7</th>\n",
       "      <td>История искусств</td>\n",
       "      <td>25</td>\n",
       "      <td>3</td>\n",
       "      <td></td>\n",
       "      <td>30</td>\n",
       "      <td>5</td>\n",
       "      <td>Факультет гуманитарных наук</td>\n",
       "      <td>300</td>\n",
       "    </tr>\n",
       "    <tr>\n",
       "      <th>8</th>\n",
       "      <td>Культурология</td>\n",
       "      <td>30</td>\n",
       "      <td>3</td>\n",
       "      <td></td>\n",
       "      <td>30</td>\n",
       "      <td>5</td>\n",
       "      <td>Факультет гуманитарных наук</td>\n",
       "      <td>260</td>\n",
       "    </tr>\n",
       "    <tr>\n",
       "      <th>9</th>\n",
       "      <td>Дизайн</td>\n",
       "      <td>55</td>\n",
       "      <td>6</td>\n",
       "      <td></td>\n",
       "      <td>300</td>\n",
       "      <td>10</td>\n",
       "      <td>Факультет коммуникаций, медиа и дизайна</td>\n",
       "      <td>350</td>\n",
       "    </tr>\n",
       "    <tr>\n",
       "      <th>10</th>\n",
       "      <td>Мода</td>\n",
       "      <td></td>\n",
       "      <td></td>\n",
       "      <td></td>\n",
       "      <td>50</td>\n",
       "      <td>10</td>\n",
       "      <td>Факультет коммуникаций, медиа и дизайна</td>\n",
       "      <td>300</td>\n",
       "    </tr>\n",
       "  </tbody>\n",
       "</table>\n",
       "</div>"
      ],
      "text/plain": [
       "                        Направление подготовки Бюджетные места Квота  \\\n",
       "0            Реклама и связи с общественностью              35     4   \n",
       "1                                 Журналистика              40     4   \n",
       "2                            Медиакоммуникации              30     3   \n",
       "3                                    Филология              33     3   \n",
       "4   Фундаментальная и компьютерная лингвистика              37     4   \n",
       "5                                      История              60     6   \n",
       "6                                    Философия              45     5   \n",
       "7                             История искусств              25     3   \n",
       "8                                Культурология              30     3   \n",
       "9                                       Дизайн              55     6   \n",
       "10                                        Мода                         \n",
       "\n",
       "   Целевая квота Платные места Платные места для иностранцев  \\\n",
       "0             1            300                            10   \n",
       "1                           70                            10   \n",
       "2                          120                            10   \n",
       "3                           80                             5   \n",
       "4                           50                             5   \n",
       "5                           30                            5    \n",
       "6                           20                            5    \n",
       "7                           30                            5    \n",
       "8                           30                             5   \n",
       "9                          300                            10   \n",
       "10                          50                            10   \n",
       "\n",
       "                                  Факультет  Стоимость обучения  \n",
       "0   Факультет коммуникаций, медиа и дизайна                 370  \n",
       "1   Факультет коммуникаций, медиа и дизайна                 300  \n",
       "2   Факультет коммуникаций, медиа и дизайна                 300  \n",
       "3               Факультет гуманитарных наук                 300  \n",
       "4               Факультет гуманитарных наук                 300  \n",
       "5               Факультет гуманитарных наук                 260  \n",
       "6               Факультет гуманитарных наук                 260  \n",
       "7               Факультет гуманитарных наук                 300  \n",
       "8               Факультет гуманитарных наук                 260  \n",
       "9   Факультет коммуникаций, медиа и дизайна                 350  \n",
       "10  Факультет коммуникаций, медиа и дизайна                 300  "
      ]
     },
     "execution_count": 104,
     "metadata": {},
     "output_type": "execute_result"
    }
   ],
   "source": [
    "data = pd.merge(data, cost, how='left', on='Направление подготовки') # Ключевой столбец - 'Направление подготовки',\n",
    "                                                                    # берем строки из первой таблицы\n",
    "data"
   ]
  },
  {
   "cell_type": "code",
   "execution_count": 105,
   "metadata": {
    "collapsed": false
   },
   "outputs": [],
   "source": [
    "data['Платные места'] = data['Платные места'].astype('int64') # Поменяем тип столбца на int\n",
    "data['Платные места для иностранцев'] = data['Платные места для иностранцев'].astype('int64')"
   ]
  },
  {
   "cell_type": "markdown",
   "metadata": {},
   "source": [
    "Добавим к платным местам количество платных мест для иностранцев, и удалим этот столбец. "
   ]
  },
  {
   "cell_type": "code",
   "execution_count": 106,
   "metadata": {
    "collapsed": false
   },
   "outputs": [],
   "source": [
    "data['Платные места'] += data['Платные места для иностранцев']\n",
    "data.drop(['Платные места для иностранцев'], axis=1, inplace=True)"
   ]
  },
  {
   "cell_type": "code",
   "execution_count": 107,
   "metadata": {
    "collapsed": false
   },
   "outputs": [
    {
     "data": {
      "text/html": [
       "<div>\n",
       "<table border=\"1\" class=\"dataframe\">\n",
       "  <thead>\n",
       "    <tr style=\"text-align: right;\">\n",
       "      <th></th>\n",
       "      <th>Направление подготовки</th>\n",
       "      <th>Бюджетные места</th>\n",
       "      <th>Квота</th>\n",
       "      <th>Целевая квота</th>\n",
       "      <th>Платные места</th>\n",
       "      <th>Факультет</th>\n",
       "      <th>Стоимость обучения</th>\n",
       "    </tr>\n",
       "  </thead>\n",
       "  <tbody>\n",
       "    <tr>\n",
       "      <th>0</th>\n",
       "      <td>Реклама и связи с общественностью</td>\n",
       "      <td>35</td>\n",
       "      <td>4</td>\n",
       "      <td>1</td>\n",
       "      <td>310</td>\n",
       "      <td>Факультет коммуникаций, медиа и дизайна</td>\n",
       "      <td>370</td>\n",
       "    </tr>\n",
       "    <tr>\n",
       "      <th>1</th>\n",
       "      <td>Журналистика</td>\n",
       "      <td>40</td>\n",
       "      <td>4</td>\n",
       "      <td></td>\n",
       "      <td>80</td>\n",
       "      <td>Факультет коммуникаций, медиа и дизайна</td>\n",
       "      <td>300</td>\n",
       "    </tr>\n",
       "    <tr>\n",
       "      <th>2</th>\n",
       "      <td>Медиакоммуникации</td>\n",
       "      <td>30</td>\n",
       "      <td>3</td>\n",
       "      <td></td>\n",
       "      <td>130</td>\n",
       "      <td>Факультет коммуникаций, медиа и дизайна</td>\n",
       "      <td>300</td>\n",
       "    </tr>\n",
       "    <tr>\n",
       "      <th>3</th>\n",
       "      <td>Филология</td>\n",
       "      <td>33</td>\n",
       "      <td>3</td>\n",
       "      <td></td>\n",
       "      <td>85</td>\n",
       "      <td>Факультет гуманитарных наук</td>\n",
       "      <td>300</td>\n",
       "    </tr>\n",
       "    <tr>\n",
       "      <th>4</th>\n",
       "      <td>Фундаментальная и компьютерная лингвистика</td>\n",
       "      <td>37</td>\n",
       "      <td>4</td>\n",
       "      <td></td>\n",
       "      <td>55</td>\n",
       "      <td>Факультет гуманитарных наук</td>\n",
       "      <td>300</td>\n",
       "    </tr>\n",
       "    <tr>\n",
       "      <th>5</th>\n",
       "      <td>История</td>\n",
       "      <td>60</td>\n",
       "      <td>6</td>\n",
       "      <td></td>\n",
       "      <td>35</td>\n",
       "      <td>Факультет гуманитарных наук</td>\n",
       "      <td>260</td>\n",
       "    </tr>\n",
       "    <tr>\n",
       "      <th>6</th>\n",
       "      <td>Философия</td>\n",
       "      <td>45</td>\n",
       "      <td>5</td>\n",
       "      <td></td>\n",
       "      <td>25</td>\n",
       "      <td>Факультет гуманитарных наук</td>\n",
       "      <td>260</td>\n",
       "    </tr>\n",
       "    <tr>\n",
       "      <th>7</th>\n",
       "      <td>История искусств</td>\n",
       "      <td>25</td>\n",
       "      <td>3</td>\n",
       "      <td></td>\n",
       "      <td>35</td>\n",
       "      <td>Факультет гуманитарных наук</td>\n",
       "      <td>300</td>\n",
       "    </tr>\n",
       "    <tr>\n",
       "      <th>8</th>\n",
       "      <td>Культурология</td>\n",
       "      <td>30</td>\n",
       "      <td>3</td>\n",
       "      <td></td>\n",
       "      <td>35</td>\n",
       "      <td>Факультет гуманитарных наук</td>\n",
       "      <td>260</td>\n",
       "    </tr>\n",
       "    <tr>\n",
       "      <th>9</th>\n",
       "      <td>Дизайн</td>\n",
       "      <td>55</td>\n",
       "      <td>6</td>\n",
       "      <td></td>\n",
       "      <td>310</td>\n",
       "      <td>Факультет коммуникаций, медиа и дизайна</td>\n",
       "      <td>350</td>\n",
       "    </tr>\n",
       "    <tr>\n",
       "      <th>10</th>\n",
       "      <td>Мода</td>\n",
       "      <td></td>\n",
       "      <td></td>\n",
       "      <td></td>\n",
       "      <td>60</td>\n",
       "      <td>Факультет коммуникаций, медиа и дизайна</td>\n",
       "      <td>300</td>\n",
       "    </tr>\n",
       "  </tbody>\n",
       "</table>\n",
       "</div>"
      ],
      "text/plain": [
       "                        Направление подготовки Бюджетные места Квота  \\\n",
       "0            Реклама и связи с общественностью              35     4   \n",
       "1                                 Журналистика              40     4   \n",
       "2                            Медиакоммуникации              30     3   \n",
       "3                                    Филология              33     3   \n",
       "4   Фундаментальная и компьютерная лингвистика              37     4   \n",
       "5                                      История              60     6   \n",
       "6                                    Философия              45     5   \n",
       "7                             История искусств              25     3   \n",
       "8                                Культурология              30     3   \n",
       "9                                       Дизайн              55     6   \n",
       "10                                        Мода                         \n",
       "\n",
       "   Целевая квота  Платные места                                Факультет  \\\n",
       "0             1             310  Факультет коммуникаций, медиа и дизайна   \n",
       "1                            80  Факультет коммуникаций, медиа и дизайна   \n",
       "2                           130  Факультет коммуникаций, медиа и дизайна   \n",
       "3                            85              Факультет гуманитарных наук   \n",
       "4                            55              Факультет гуманитарных наук   \n",
       "5                            35              Факультет гуманитарных наук   \n",
       "6                            25              Факультет гуманитарных наук   \n",
       "7                            35              Факультет гуманитарных наук   \n",
       "8                            35              Факультет гуманитарных наук   \n",
       "9                           310  Факультет коммуникаций, медиа и дизайна   \n",
       "10                           60  Факультет коммуникаций, медиа и дизайна   \n",
       "\n",
       "    Стоимость обучения  \n",
       "0                  370  \n",
       "1                  300  \n",
       "2                  300  \n",
       "3                  300  \n",
       "4                  300  \n",
       "5                  260  \n",
       "6                  260  \n",
       "7                  300  \n",
       "8                  260  \n",
       "9                  350  \n",
       "10                 300  "
      ]
     },
     "execution_count": 107,
     "metadata": {},
     "output_type": "execute_result"
    }
   ],
   "source": [
    "data"
   ]
  },
  {
   "cell_type": "markdown",
   "metadata": {},
   "source": [
    "Введем новый столбец - количество денег, которые получит вуз от абитуриентов за первый год, при условии, что все платные места будут заполнены."
   ]
  },
  {
   "cell_type": "code",
   "execution_count": 108,
   "metadata": {
    "collapsed": false
   },
   "outputs": [
    {
     "data": {
      "text/html": [
       "<div>\n",
       "<table border=\"1\" class=\"dataframe\">\n",
       "  <thead>\n",
       "    <tr style=\"text-align: right;\">\n",
       "      <th></th>\n",
       "      <th>Направление подготовки</th>\n",
       "      <th>Бюджетные места</th>\n",
       "      <th>Квота</th>\n",
       "      <th>Целевая квота</th>\n",
       "      <th>Платные места</th>\n",
       "      <th>Факультет</th>\n",
       "      <th>Стоимость обучения</th>\n",
       "      <th>Прибыль</th>\n",
       "    </tr>\n",
       "  </thead>\n",
       "  <tbody>\n",
       "    <tr>\n",
       "      <th>0</th>\n",
       "      <td>Реклама и связи с общественностью</td>\n",
       "      <td>35</td>\n",
       "      <td>4</td>\n",
       "      <td>1</td>\n",
       "      <td>310</td>\n",
       "      <td>Факультет коммуникаций, медиа и дизайна</td>\n",
       "      <td>370</td>\n",
       "      <td>114700</td>\n",
       "    </tr>\n",
       "    <tr>\n",
       "      <th>1</th>\n",
       "      <td>Журналистика</td>\n",
       "      <td>40</td>\n",
       "      <td>4</td>\n",
       "      <td></td>\n",
       "      <td>80</td>\n",
       "      <td>Факультет коммуникаций, медиа и дизайна</td>\n",
       "      <td>300</td>\n",
       "      <td>24000</td>\n",
       "    </tr>\n",
       "    <tr>\n",
       "      <th>2</th>\n",
       "      <td>Медиакоммуникации</td>\n",
       "      <td>30</td>\n",
       "      <td>3</td>\n",
       "      <td></td>\n",
       "      <td>130</td>\n",
       "      <td>Факультет коммуникаций, медиа и дизайна</td>\n",
       "      <td>300</td>\n",
       "      <td>39000</td>\n",
       "    </tr>\n",
       "    <tr>\n",
       "      <th>3</th>\n",
       "      <td>Филология</td>\n",
       "      <td>33</td>\n",
       "      <td>3</td>\n",
       "      <td></td>\n",
       "      <td>85</td>\n",
       "      <td>Факультет гуманитарных наук</td>\n",
       "      <td>300</td>\n",
       "      <td>25500</td>\n",
       "    </tr>\n",
       "    <tr>\n",
       "      <th>4</th>\n",
       "      <td>Фундаментальная и компьютерная лингвистика</td>\n",
       "      <td>37</td>\n",
       "      <td>4</td>\n",
       "      <td></td>\n",
       "      <td>55</td>\n",
       "      <td>Факультет гуманитарных наук</td>\n",
       "      <td>300</td>\n",
       "      <td>16500</td>\n",
       "    </tr>\n",
       "    <tr>\n",
       "      <th>5</th>\n",
       "      <td>История</td>\n",
       "      <td>60</td>\n",
       "      <td>6</td>\n",
       "      <td></td>\n",
       "      <td>35</td>\n",
       "      <td>Факультет гуманитарных наук</td>\n",
       "      <td>260</td>\n",
       "      <td>9100</td>\n",
       "    </tr>\n",
       "    <tr>\n",
       "      <th>6</th>\n",
       "      <td>Философия</td>\n",
       "      <td>45</td>\n",
       "      <td>5</td>\n",
       "      <td></td>\n",
       "      <td>25</td>\n",
       "      <td>Факультет гуманитарных наук</td>\n",
       "      <td>260</td>\n",
       "      <td>6500</td>\n",
       "    </tr>\n",
       "    <tr>\n",
       "      <th>7</th>\n",
       "      <td>История искусств</td>\n",
       "      <td>25</td>\n",
       "      <td>3</td>\n",
       "      <td></td>\n",
       "      <td>35</td>\n",
       "      <td>Факультет гуманитарных наук</td>\n",
       "      <td>300</td>\n",
       "      <td>10500</td>\n",
       "    </tr>\n",
       "    <tr>\n",
       "      <th>8</th>\n",
       "      <td>Культурология</td>\n",
       "      <td>30</td>\n",
       "      <td>3</td>\n",
       "      <td></td>\n",
       "      <td>35</td>\n",
       "      <td>Факультет гуманитарных наук</td>\n",
       "      <td>260</td>\n",
       "      <td>9100</td>\n",
       "    </tr>\n",
       "    <tr>\n",
       "      <th>9</th>\n",
       "      <td>Дизайн</td>\n",
       "      <td>55</td>\n",
       "      <td>6</td>\n",
       "      <td></td>\n",
       "      <td>310</td>\n",
       "      <td>Факультет коммуникаций, медиа и дизайна</td>\n",
       "      <td>350</td>\n",
       "      <td>108500</td>\n",
       "    </tr>\n",
       "    <tr>\n",
       "      <th>10</th>\n",
       "      <td>Мода</td>\n",
       "      <td></td>\n",
       "      <td></td>\n",
       "      <td></td>\n",
       "      <td>60</td>\n",
       "      <td>Факультет коммуникаций, медиа и дизайна</td>\n",
       "      <td>300</td>\n",
       "      <td>18000</td>\n",
       "    </tr>\n",
       "  </tbody>\n",
       "</table>\n",
       "</div>"
      ],
      "text/plain": [
       "                        Направление подготовки Бюджетные места Квота  \\\n",
       "0            Реклама и связи с общественностью              35     4   \n",
       "1                                 Журналистика              40     4   \n",
       "2                            Медиакоммуникации              30     3   \n",
       "3                                    Филология              33     3   \n",
       "4   Фундаментальная и компьютерная лингвистика              37     4   \n",
       "5                                      История              60     6   \n",
       "6                                    Философия              45     5   \n",
       "7                             История искусств              25     3   \n",
       "8                                Культурология              30     3   \n",
       "9                                       Дизайн              55     6   \n",
       "10                                        Мода                         \n",
       "\n",
       "   Целевая квота  Платные места                                Факультет  \\\n",
       "0             1             310  Факультет коммуникаций, медиа и дизайна   \n",
       "1                            80  Факультет коммуникаций, медиа и дизайна   \n",
       "2                           130  Факультет коммуникаций, медиа и дизайна   \n",
       "3                            85              Факультет гуманитарных наук   \n",
       "4                            55              Факультет гуманитарных наук   \n",
       "5                            35              Факультет гуманитарных наук   \n",
       "6                            25              Факультет гуманитарных наук   \n",
       "7                            35              Факультет гуманитарных наук   \n",
       "8                            35              Факультет гуманитарных наук   \n",
       "9                           310  Факультет коммуникаций, медиа и дизайна   \n",
       "10                           60  Факультет коммуникаций, медиа и дизайна   \n",
       "\n",
       "    Стоимость обучения  Прибыль  \n",
       "0                  370   114700  \n",
       "1                  300    24000  \n",
       "2                  300    39000  \n",
       "3                  300    25500  \n",
       "4                  300    16500  \n",
       "5                  260     9100  \n",
       "6                  260     6500  \n",
       "7                  300    10500  \n",
       "8                  260     9100  \n",
       "9                  350   108500  \n",
       "10                 300    18000  "
      ]
     },
     "execution_count": 108,
     "metadata": {},
     "output_type": "execute_result"
    }
   ],
   "source": [
    "data['Прибыль'] = data['Платные места'] * data['Стоимость обучения']\n",
    "data"
   ]
  },
  {
   "cell_type": "markdown",
   "metadata": {},
   "source": [
    "Теперь построим итоговую сводную таблицу. "
   ]
  },
  {
   "cell_type": "code",
   "execution_count": 110,
   "metadata": {
    "collapsed": false
   },
   "outputs": [
    {
     "data": {
      "text/html": [
       "<div>\n",
       "<table border=\"1\" class=\"dataframe\">\n",
       "  <thead>\n",
       "    <tr style=\"text-align: right;\">\n",
       "      <th></th>\n",
       "      <th>Прибыль</th>\n",
       "    </tr>\n",
       "    <tr>\n",
       "      <th>Факультет</th>\n",
       "      <th></th>\n",
       "    </tr>\n",
       "  </thead>\n",
       "  <tbody>\n",
       "    <tr>\n",
       "      <th>Факультет гуманитарных наук</th>\n",
       "      <td>77200</td>\n",
       "    </tr>\n",
       "    <tr>\n",
       "      <th>Факультет коммуникаций, медиа и дизайна</th>\n",
       "      <td>304200</td>\n",
       "    </tr>\n",
       "  </tbody>\n",
       "</table>\n",
       "</div>"
      ],
      "text/plain": [
       "                                         Прибыль\n",
       "Факультет                                       \n",
       "Факультет гуманитарных наук                77200\n",
       "Факультет коммуникаций, медиа и дизайна   304200"
      ]
     },
     "execution_count": 110,
     "metadata": {},
     "output_type": "execute_result"
    }
   ],
   "source": [
    "res = data.pivot_table(['Прибыль'], ['Факультет'], aggfunc='sum', fill_value=0)\n",
    "res"
   ]
  },
  {
   "cell_type": "code",
   "execution_count": null,
   "metadata": {
    "collapsed": true
   },
   "outputs": [],
   "source": []
  }
 ],
 "metadata": {
  "anaconda-cloud": {},
  "kernelspec": {
   "display_name": "Python [conda root]",
   "language": "python",
   "name": "conda-root-py"
  },
  "language_info": {
   "codemirror_mode": {
    "name": "ipython",
    "version": 3
   },
   "file_extension": ".py",
   "mimetype": "text/x-python",
   "name": "python",
   "nbconvert_exporter": "python",
   "pygments_lexer": "ipython3",
   "version": "3.5.2"
  }
 },
 "nbformat": 4,
 "nbformat_minor": 1
}
